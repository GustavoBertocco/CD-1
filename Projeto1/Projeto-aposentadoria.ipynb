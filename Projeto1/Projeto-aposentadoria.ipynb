{
 "cells": [
  {
   "cell_type": "markdown",
   "metadata": {},
   "source": [
    "Projeto 1\n",
    "\n",
    "“Em quais características certo grupo de aposentados está melhor (ou pior ou\n",
    "igual) do que algum outro grupo de comparação?”\n",
    "\n",
    "-Rendimento da aposentadoria;\n",
    "-Contribuição fundo privado;\n",
    "\n",
    "\n",
    "#V1022 - Renda;\n",
    "#V9120 - contribução do fundo privado;\n",
    "#V1251 - Recebe rendimento de aposentadoria(Sim/Não)\n",
    "#V4803 - Anos de estudo\n",
    "#V0302 - Sexo\n",
    "#V0404 - Raça\n"
   ]
  },
  {
   "cell_type": "code",
   "execution_count": 1,
   "metadata": {
    "collapsed": true
   },
   "outputs": [],
   "source": [
    "%matplotlib inline\n",
    "import pandas as pd\n",
    "import matplotlib.pyplot as plt\n",
    "import numpy as np\n",
    "import os"
   ]
  },
  {
   "cell_type": "code",
   "execution_count": 2,
   "metadata": {
    "collapsed": false
   },
   "outputs": [
    {
     "name": "stdout",
     "output_type": "stream",
     "text": [
      "Esperamos trabalhar no diretório\n",
      "C:\\Users\\Eduardo\\Documents\\ipynb\n"
     ]
    }
   ],
   "source": [
    "print('Esperamos trabalhar no diretório')\n",
    "print(os.getcwd())"
   ]
  },
  {
   "cell_type": "code",
   "execution_count": 3,
   "metadata": {
    "collapsed": false
   },
   "outputs": [],
   "source": [
    "dados = pd.read_csv('PES2014.csv', ',')"
   ]
  },
  {
   "cell_type": "code",
   "execution_count": 4,
   "metadata": {
    "collapsed": false
   },
   "outputs": [
    {
     "data": {
      "text/html": [
       "<div>\n",
       "<table border=\"1\" class=\"dataframe\">\n",
       "  <thead>\n",
       "    <tr style=\"text-align: right;\">\n",
       "      <th></th>\n",
       "      <th>Unnamed: 0</th>\n",
       "      <th>V0101</th>\n",
       "      <th>UF</th>\n",
       "      <th>V0102</th>\n",
       "      <th>V0103</th>\n",
       "      <th>V0301</th>\n",
       "      <th>V0302</th>\n",
       "      <th>V3031</th>\n",
       "      <th>V3032</th>\n",
       "      <th>V3033</th>\n",
       "      <th>...</th>\n",
       "      <th>V4741</th>\n",
       "      <th>V4742</th>\n",
       "      <th>V4743</th>\n",
       "      <th>V4745</th>\n",
       "      <th>V4746</th>\n",
       "      <th>V4747</th>\n",
       "      <th>V4748</th>\n",
       "      <th>V4749</th>\n",
       "      <th>V4750</th>\n",
       "      <th>V9993</th>\n",
       "    </tr>\n",
       "  </thead>\n",
       "  <tbody>\n",
       "    <tr>\n",
       "      <th>0</th>\n",
       "      <td>0</td>\n",
       "      <td>2014</td>\n",
       "      <td>11</td>\n",
       "      <td>15</td>\n",
       "      <td>1</td>\n",
       "      <td>1</td>\n",
       "      <td>2</td>\n",
       "      <td>19</td>\n",
       "      <td>8</td>\n",
       "      <td>1987</td>\n",
       "      <td>...</td>\n",
       "      <td>3.0</td>\n",
       "      <td>500.0</td>\n",
       "      <td>3.0</td>\n",
       "      <td>3</td>\n",
       "      <td>1.0</td>\n",
       "      <td>2.0</td>\n",
       "      <td>2.0</td>\n",
       "      <td>1.0</td>\n",
       "      <td>500.0</td>\n",
       "      <td>20160623</td>\n",
       "    </tr>\n",
       "    <tr>\n",
       "      <th>1</th>\n",
       "      <td>1</td>\n",
       "      <td>2014</td>\n",
       "      <td>11</td>\n",
       "      <td>15</td>\n",
       "      <td>1</td>\n",
       "      <td>2</td>\n",
       "      <td>4</td>\n",
       "      <td>19</td>\n",
       "      <td>1</td>\n",
       "      <td>1986</td>\n",
       "      <td>...</td>\n",
       "      <td>3.0</td>\n",
       "      <td>500.0</td>\n",
       "      <td>3.0</td>\n",
       "      <td>4</td>\n",
       "      <td>2.0</td>\n",
       "      <td>NaN</td>\n",
       "      <td>2.0</td>\n",
       "      <td>1.0</td>\n",
       "      <td>500.0</td>\n",
       "      <td>20160623</td>\n",
       "    </tr>\n",
       "    <tr>\n",
       "      <th>2</th>\n",
       "      <td>2</td>\n",
       "      <td>2014</td>\n",
       "      <td>11</td>\n",
       "      <td>15</td>\n",
       "      <td>1</td>\n",
       "      <td>3</td>\n",
       "      <td>2</td>\n",
       "      <td>14</td>\n",
       "      <td>5</td>\n",
       "      <td>2013</td>\n",
       "      <td>...</td>\n",
       "      <td>3.0</td>\n",
       "      <td>500.0</td>\n",
       "      <td>3.0</td>\n",
       "      <td>1</td>\n",
       "      <td>NaN</td>\n",
       "      <td>NaN</td>\n",
       "      <td>NaN</td>\n",
       "      <td>NaN</td>\n",
       "      <td>500.0</td>\n",
       "      <td>20160623</td>\n",
       "    </tr>\n",
       "    <tr>\n",
       "      <th>3</th>\n",
       "      <td>3</td>\n",
       "      <td>2014</td>\n",
       "      <td>11</td>\n",
       "      <td>15</td>\n",
       "      <td>2</td>\n",
       "      <td>1</td>\n",
       "      <td>2</td>\n",
       "      <td>8</td>\n",
       "      <td>4</td>\n",
       "      <td>1963</td>\n",
       "      <td>...</td>\n",
       "      <td>2.0</td>\n",
       "      <td>1150.0</td>\n",
       "      <td>4.0</td>\n",
       "      <td>2</td>\n",
       "      <td>1.0</td>\n",
       "      <td>2.0</td>\n",
       "      <td>2.0</td>\n",
       "      <td>1.0</td>\n",
       "      <td>1150.0</td>\n",
       "      <td>20160623</td>\n",
       "    </tr>\n",
       "    <tr>\n",
       "      <th>4</th>\n",
       "      <td>4</td>\n",
       "      <td>2014</td>\n",
       "      <td>11</td>\n",
       "      <td>15</td>\n",
       "      <td>2</td>\n",
       "      <td>2</td>\n",
       "      <td>4</td>\n",
       "      <td>6</td>\n",
       "      <td>11</td>\n",
       "      <td>1970</td>\n",
       "      <td>...</td>\n",
       "      <td>2.0</td>\n",
       "      <td>1150.0</td>\n",
       "      <td>4.0</td>\n",
       "      <td>3</td>\n",
       "      <td>1.0</td>\n",
       "      <td>2.0</td>\n",
       "      <td>2.0</td>\n",
       "      <td>1.0</td>\n",
       "      <td>1150.0</td>\n",
       "      <td>20160623</td>\n",
       "    </tr>\n",
       "  </tbody>\n",
       "</table>\n",
       "<p>5 rows × 342 columns</p>\n",
       "</div>"
      ],
      "text/plain": [
       "   Unnamed: 0  V0101  UF     V0102  V0103  V0301  V0302  V3031  V3032  V3033  \\\n",
       "0           0   2014     11     15      1      1      2     19      8   1987   \n",
       "1           1   2014     11     15      1      2      4     19      1   1986   \n",
       "2           2   2014     11     15      1      3      2     14      5   2013   \n",
       "3           3   2014     11     15      2      1      2      8      4   1963   \n",
       "4           4   2014     11     15      2      2      4      6     11   1970   \n",
       "\n",
       "     ...     V4741   V4742  V4743  V4745  V4746  V4747  V4748  V4749   V4750  \\\n",
       "0    ...       3.0   500.0    3.0      3    1.0    2.0    2.0    1.0   500.0   \n",
       "1    ...       3.0   500.0    3.0      4    2.0    NaN    2.0    1.0   500.0   \n",
       "2    ...       3.0   500.0    3.0      1    NaN    NaN    NaN    NaN   500.0   \n",
       "3    ...       2.0  1150.0    4.0      2    1.0    2.0    2.0    1.0  1150.0   \n",
       "4    ...       2.0  1150.0    4.0      3    1.0    2.0    2.0    1.0  1150.0   \n",
       "\n",
       "      V9993  \n",
       "0  20160623  \n",
       "1  20160623  \n",
       "2  20160623  \n",
       "3  20160623  \n",
       "4  20160623  \n",
       "\n",
       "[5 rows x 342 columns]"
      ]
     },
     "execution_count": 4,
     "metadata": {},
     "output_type": "execute_result"
    }
   ],
   "source": [
    "dados.head()"
   ]
  },
  {
   "cell_type": "code",
   "execution_count": 5,
   "metadata": {
    "collapsed": false
   },
   "outputs": [],
   "source": [
    "V0102 = dados.iloc[:,2]"
   ]
  },
  {
   "cell_type": "code",
   "execution_count": 6,
   "metadata": {
    "collapsed": false
   },
   "outputs": [
    {
     "data": {
      "text/plain": [
       "(362627, 342)"
      ]
     },
     "execution_count": 6,
     "metadata": {},
     "output_type": "execute_result"
    }
   ],
   "source": [
    "dados.shape\n"
   ]
  },
  {
   "cell_type": "code",
   "execution_count": 7,
   "metadata": {
    "collapsed": false
   },
   "outputs": [],
   "source": [
    "dados.rendageral= dados.V1022[(dados.V1022 < 500000)]\n",
    "#dados.rendageral"
   ]
  },
  {
   "cell_type": "code",
   "execution_count": 8,
   "metadata": {
    "collapsed": false
   },
   "outputs": [],
   "source": [
    "n=dados.shape[0]\n",
    "#dados.V1251.dropna()"
   ]
  },
  {
   "cell_type": "code",
   "execution_count": 9,
   "metadata": {
    "collapsed": false,
    "scrolled": true
   },
   "outputs": [],
   "source": [
    "dados.rendageral = dados.rendageral.astype('float')\n",
    "dados.contr = dados.V9120.astype('float')\n",
    "dados.sexo = dados.V0302.astype('float')\n",
    "dados.aposentado = dados.V1251.astype('category')\n",
    "dados.anos = dados.V4803.astype('float')\n",
    "dados.cor_raca = dados.V0404.astype('float')\n"
   ]
  },
  {
   "cell_type": "markdown",
   "metadata": {},
   "source": [
    "Jutificativa das escolhas/Introdução:\n",
    "\n",
    "Renda Geral: Em termos de bem-estar, intuitivamente pensamos em renda, principalmente pelo fato de a mesma estar invariavelmente relacionada com o mesmo. Um determinado indivíduo que possui mais dinheiro tem um padrão de vida mais elevado do que outros com uma renda menor. Esta variável será utilizada para verificar se as demais estão ou não correlacionadas com o bem-estar do grupo.\n",
    "\n",
    "Contribuição Privada: De acordo com o site da Vivo, \"um dos aspectos em que a aposentadoria pública difere da previdência privada é justamente o teto: independente do salário que você receba enquanto trabalha, o máximo que o INSS vai pagar para um aposentado é R$ 4,6 mil\". Dessa maneira, é de se esperar que o grupo de aposentados que optou por uma contribuição privada esteja melhor do que o outro grupo.\n",
    "\n",
    "Sexo: Sabemos que a população brasileira está dividida praticamente de forma equivalente entre homens e mulheres. O que não sabemos, no entanto, é se homens e mulheres aposentados estejam recebendo rendimentos parecidos depois de aposentados. Este questionamento surge a partir do momento em que paramos para pensar na situação econômica e social do país algumas décadas atrás: homens trabalhando e construindo sua carreira profissional enquanto as mulheres cuidam dos afazeres domésticos. Dessa forma, é de se esperar que os homens estivessem investindo em sua aposentadoria num fundo privado enquanto as mulheres talvez não. \n",
    "\n",
    "Aposentados: Simplesmente serve para determinar os individuos aposentados para os fins comparativos desta análise.\n",
    "\n",
    "Anos de estudo: É senso comum que uma pessoa com mais estudo tem mais chances de obter uma vaga de emprego melhor e, por consequência, ter melhores rendimentos salariais quando aposentados.\n",
    "\n",
    "Cor/Raça: Historicamente no Brasil houve indiscutivelmente muita discriminação de individuos de determinadas cores e raças. Dessa maneira, pode ser que a cor ou raça de determinados grupos de aposentados tenha influenciado indiretamente seu bem-estar social e econômico."
   ]
  },
  {
   "cell_type": "code",
   "execution_count": 10,
   "metadata": {
    "collapsed": false
   },
   "outputs": [
    {
     "name": "stdout",
     "output_type": "stream",
     "text": [
      "Frequência relativa da contribuição privada/pública:\n",
      "4    84.0\n",
      "2     2.0\n",
      "Name: V9120, dtype: float64 \n",
      "\n",
      "Frequência relativa do sexo:\n",
      "4    51.5\n",
      "2    48.5\n",
      "Name: V0302, dtype: float64 \n",
      "\n",
      "Quantidade de aposentados:\n",
      "Frequência relativa dos anos de estudo:\n",
      "4    51.5\n",
      "2    48.5\n",
      "Name: V0302, dtype: float64 \n",
      "\n",
      "Frequência relativa Cor/Raça:\n",
      "8    47.9\n",
      "2    42.3\n",
      "4     8.9\n",
      "0     0.5\n",
      "6     0.4\n",
      "9     0.0\n",
      "Name: V0404, dtype: float64 \n",
      "\n"
     ]
    }
   ],
   "source": [
    "#Variáveis Qualitativas\n",
    "\n",
    "print('Frequência relativa da contribuição privada/pública:')\n",
    "ut1 = (dados.contr.value_counts()/n*100).round(decimals=1).reindex(['4', '2'])\n",
    "print(ut1,'\\n')\n",
    "\n",
    "print('Frequência relativa do sexo:')\n",
    "ut2 = (dados.sexo.value_counts()/n*100).round(decimals=1).reindex(['4', '2'])\n",
    "print(ut2,'\\n')\n",
    "\n",
    "print('Quantidade de aposentados:')\n",
    "dados.aposentado.value_counts()\n",
    "\n",
    "\n",
    "print('Frequência relativa dos anos de estudo:')\n",
    "ut3 = (dados.anos.value_counts()/n*100).round(decimals=1).reindex(['12', '1', '9','5','16','6','4','8','7','3','10','11','2','13','15','14','17'])\n",
    "print(ut2,'\\n')\n",
    "\n",
    "\n",
    "print('Frequência relativa Cor/Raça:')\n",
    "ut10 = (dados.cor_raca.value_counts()/n*100).round(decimals=1).reindex(['8','2','4','0','6','9'])\n",
    "print(ut10,'\\n')"
   ]
  },
  {
   "cell_type": "code",
   "execution_count": 11,
   "metadata": {
    "collapsed": false,
    "scrolled": true
   },
   "outputs": [
    {
     "data": {
      "text/plain": [
       "<matplotlib.text.Text at 0x1956b4cf668>"
      ]
     },
     "execution_count": 11,
     "metadata": {},
     "output_type": "execute_result"
    },
    {
     "data": {
      "image/png": "[encoded data removed]",
      "text/plain": [
       "<matplotlib.figure.Figure at 0x1956b5bec88>"
      ]
     },
     "metadata": {},
     "output_type": "display_data"
    }
   ],
   "source": [
    "# Gráfico de barras\n",
    "plot = ut1.plot(kind='bar',title='Previdência Privada ou Não',figsize=(6, 6),color=('b','g'))\n",
    "plt.ylabel('Freq.Relativa')\n",
    "plt.xlabel('Previdência Privada ou Não')\n",
    "\n"
   ]
  },
  {
   "cell_type": "markdown",
   "metadata": {
    "collapsed": false
   },
   "source": [
    "Análise: Verfica-se, com este gráfico que existe uma vasta maioria de pessoas no Brasil que optaram pela previdencia pública."
   ]
  },
  {
   "cell_type": "code",
   "execution_count": 12,
   "metadata": {
    "collapsed": false
   },
   "outputs": [
    {
     "data": {
      "text/plain": [
       "<matplotlib.text.Text at 0x1952d5fc128>"
      ]
     },
     "execution_count": 12,
     "metadata": {},
     "output_type": "execute_result"
    },
    {
     "data": {
      "image/png": "[encoded data removed]",
      "text/plain": [
       "<matplotlib.figure.Figure at 0x1956b0a8f98>"
      ]
     },
     "metadata": {},
     "output_type": "display_data"
    }
   ],
   "source": [
    "plot = ut2.plot(kind='bar',title='Sexo',figsize=(6, 6),color=('b','g'))\n",
    "plt.ylabel('Freq.Relativa')\n",
    "plt.xlabel('Masculino/Feminino')\n",
    "\n"
   ]
  },
  {
   "cell_type": "markdown",
   "metadata": {},
   "source": [
    "Análise: Como esperado, no Brasil existem quantidades parecidas de homens e mulheres."
   ]
  },
  {
   "cell_type": "code",
   "execution_count": 13,
   "metadata": {
    "collapsed": false
   },
   "outputs": [
    {
     "data": {
      "text/plain": [
       "<matplotlib.text.Text at 0x1952d606e48>"
      ]
     },
     "execution_count": 13,
     "metadata": {},
     "output_type": "execute_result"
    },
    {
     "data": {
      "image/png": "[encoded data removed]",
      "text/plain": [
       "<matplotlib.figure.Figure at 0x1952d65fc88>"
      ]
     },
     "metadata": {},
     "output_type": "display_data"
    }
   ],
   "source": [
    "plot = ut3.plot(kind='bar',title='Anos de Estudo',figsize=(6, 6),color=('b','g'))\n",
    "plt.ylabel('Freq.Relativa')\n",
    "plt.xlabel('Anos')\n",
    "\n"
   ]
  },
  {
   "cell_type": "markdown",
   "metadata": {},
   "source": [
    "Legenda: \n",
    "1- Sem instrução/Menos de um ano\n",
    "2- 1 ano\n",
    "3- 2 anos\n",
    "...\n",
    "16- 15 anos ou mais\n",
    "17- Não determinado\n",
    "\n",
    "Análise: A partir do gráfico, percebe-se que ao mesmo tempo que um número significativo de indivíduos não tem instrução(ou tem menos de um ano) outra parte praticamente equivalente tem mais de dez anos de instrução. "
   ]
  },
  {
   "cell_type": "code",
   "execution_count": null,
   "metadata": {
    "collapsed": true
   },
   "outputs": [],
   "source": []
  },
  {
   "cell_type": "code",
   "execution_count": 14,
   "metadata": {
    "collapsed": false
   },
   "outputs": [],
   "source": [
    "dados.rendageral = dados.rendageral[~dados.rendageral.isnull()]\n",
    "#dados.rendageral.head()"
   ]
  },
  {
   "cell_type": "code",
   "execution_count": 15,
   "metadata": {
    "collapsed": false
   },
   "outputs": [
    {
     "data": {
      "image/png": "[encoded data removed]",
      "text/plain": [
       "<matplotlib.figure.Figure at 0x1952d67ceb8>"
      ]
     },
     "metadata": {},
     "output_type": "display_data"
    }
   ],
   "source": [
    "# Determinando faixa da renda.\n",
    "dados.renda = dados.rendageral[dados.aposentado == 1]\n",
    "faixarenda= np.arange(0,10000,500)\n",
    "#dados.renda = pd.cut(dados.renda,faixarenda)\n",
    "#dados.renda\n",
    "plot= dados.rendageral.plot.hist(bins=faixarenda)\n"
   ]
  },
  {
   "cell_type": "markdown",
   "metadata": {
    "collapsed": true
   },
   "source": [
    "Análise: A partir do gráfico, verifica-se uma concentração de indivíduos com renda próxima de um salário mínimo."
   ]
  },
  {
   "cell_type": "code",
   "execution_count": 16,
   "metadata": {
    "collapsed": false
   },
   "outputs": [],
   "source": [
    "#plot = dados.renda.plot.hist(bins=faixarenda)\n"
   ]
  },
  {
   "cell_type": "code",
   "execution_count": 42,
   "metadata": {
    "collapsed": false,
    "scrolled": true
   },
   "outputs": [
    {
     "name": "stdout",
     "output_type": "stream",
     "text": [
      "Frequência Relativa anos de estudo dos aposentados\n"
     ]
    },
    {
     "data": {
      "text/plain": [
       "<matplotlib.text.Text at 0x1952dd38ef0>"
      ]
     },
     "execution_count": 42,
     "metadata": {},
     "output_type": "execute_result"
    },
    {
     "data": {
      "image/png": "[encoded data removed]",
      "text/plain": [
       "<matplotlib.figure.Figure at 0x1952dd201d0>"
      ]
     },
     "metadata": {},
     "output_type": "display_data"
    }
   ],
   "source": [
    "nap = float(dados.aposentado.value_counts()) #total de aposentados\n",
    "\n",
    "print('Frequência Relativa anos de estudo dos aposentados')\n",
    "dados.apanos = dados.anos[dados.aposentado == 1]\n",
    "dados.apanos = dados.apanos.astype('float')\n",
    "ut4 = (dados.apanos.value_counts()/nap*100).round(decimals=1).reindex(['1','5','12','16','9','4','3','6','2','7','13','8','15','11','14','10','17'])\n",
    "#print(ut4,'\\n')\n",
    "      \n",
    "plot = ut4.plot(kind='bar',title='Anos de Estudo dos Aposentados',figsize=(6, 6),color=('blue','green', 'yellow', 'black'))\n",
    "plt.ylabel('Freq.Relativa')\n",
    "plt.xlabel('Anos')\n",
    "\n",
    "# Espaço amostral = aposentados \n",
    "\n"
   ]
  },
  {
   "cell_type": "markdown",
   "metadata": {},
   "source": [
    "Legenda: 1- Sem instrução/Menos de um ano 2- 1 ano 3- 2 anos ... 16- 15 anos ou mais 17- Não determinado\n",
    "\n",
    "Analise: Este é o gráfico dos anos de estudo entre os aposentados. Para efeito de comparação, a seguir vou sobrepor este gráfico com o entre a população inteira."
   ]
  },
  {
   "cell_type": "code",
   "execution_count": 45,
   "metadata": {
    "collapsed": false
   },
   "outputs": [
    {
     "data": {
      "image/png": "[encoded data removed]",
      "text/plain": [
       "<matplotlib.figure.Figure at 0x1952de8beb8>"
      ]
     },
     "metadata": {},
     "output_type": "display_data"
    }
   ],
   "source": [
    "plot = ut3.plot(kind='bar',title='Anos de Estudo',figsize=(6, 6),color=('grey'))\n",
    "\n",
    "plot = ut4.plot(kind='bar',title='Anos de Estudo dos Aposentados',figsize=(6, 6),color=('blue'))\n"
   ]
  },
  {
   "cell_type": "markdown",
   "metadata": {},
   "source": [
    "Legenda: 1- Sem instrução/Menos de um ano 2- 1 ano 3- 2 anos ... 16- 15 anos ou mais 17- Não determinado\n",
    "\n",
    "Cores: \n",
    "\n",
    "Azul- anos de estudo entre os aposentados;\n",
    "\n",
    "Cinza- Anos de estudo entre a população\n",
    "\n",
    "Analise: Evidencia-se, com este gráfico, que os aposentados concentram-se em anos de estudo inferiores às da população geral. Conseguintemente, os aposentados têm menos instrução que a população em geral. "
   ]
  },
  {
   "cell_type": "code",
   "execution_count": 18,
   "metadata": {
    "collapsed": false
   },
   "outputs": [
    {
     "name": "stdout",
     "output_type": "stream",
     "text": [
      "Frequência Relativa do Sexo nos Aposentados\n",
      "4    50.8\n",
      "2    49.2\n",
      "Name: V0302, dtype: float64 \n",
      "\n",
      "Análise do gráfico:\n"
     ]
    },
    {
     "data": {
      "image/png": "[encoded data removed]",
      "text/plain": [
       "<matplotlib.figure.Figure at 0x1952d815710>"
      ]
     },
     "metadata": {},
     "output_type": "display_data"
    }
   ],
   "source": [
    "nap = float(dados.aposentado.value_counts()) #total de aposentados\n",
    "\n",
    "print('Frequência Relativa do Sexo nos Aposentados')\n",
    "dados.sexap = dados.sexo[dados.aposentado == 1]\n",
    "dados.sexap = dados.sexap.astype('float')\n",
    "ut5 = (dados.sexap.value_counts()/nap*100).round(decimals=1).reindex(['4','2'])\n",
    "print(ut5,'\\n')\n",
    "\n",
    "\n",
    "plot = ut5.plot(kind='bar',title='Sexo nos aposentados',figsize=(6, 6),color=('blue','green', 'yellow', 'black'))\n",
    "plt.ylabel('Freq.Relativa')\n",
    "plt.xlabel('Masc/Fem')\n",
    "\n",
    "\n",
    "print('Análise do gráfico:')\n"
   ]
  },
  {
   "cell_type": "markdown",
   "metadata": {},
   "source": [
    "Legenda:\n",
    "4- Feminino\n",
    "2- Masculino\n",
    "\n",
    "Análise: Assim como o esperado, entre os aposentados existe uma quantidade praticamente equivalente de homens e mulheres."
   ]
  },
  {
   "cell_type": "code",
   "execution_count": 19,
   "metadata": {
    "collapsed": false
   },
   "outputs": [
    {
     "name": "stdout",
     "output_type": "stream",
     "text": [
      "Frequência Relativa da contribuição privada ou não nos aposentados\n",
      "4    97.4\n",
      "2     2.6\n",
      "Name: V9120, dtype: float64 \n",
      "\n"
     ]
    },
    {
     "data": {
      "text/plain": [
       "<matplotlib.text.Text at 0x1952d875940>"
      ]
     },
     "execution_count": 19,
     "metadata": {},
     "output_type": "execute_result"
    },
    {
     "data": {
      "image/png": "[encoded data removed]",
      "text/plain": [
       "<matplotlib.figure.Figure at 0x1952d8ccc88>"
      ]
     },
     "metadata": {},
     "output_type": "display_data"
    }
   ],
   "source": [
    "print('Frequência Relativa da contribuição privada ou não nos aposentados')\n",
    "dados.contap = dados.contr[dados.aposentado == 1]\n",
    "dados.contap = dados.contap.astype('float')\n",
    "ut6 = (dados.contap.value_counts()/nap*100).round(decimals=1).reindex(['4','2'])\n",
    "print(ut6,'\\n')\n",
    "\n",
    "\n",
    "plot = ut6.plot(kind='bar',title='Contribuição privada nos aposentados',figsize=(6, 6),color=('blue','green', 'yellow', 'black'))\n",
    "plt.ylabel('Freq.Relativa')\n",
    "plt.xlabel('Contribuição')\n"
   ]
  },
  {
   "cell_type": "markdown",
   "metadata": {
    "collapsed": true
   },
   "source": [
    "Legenda:\n",
    "4- Contribuição Pública\n",
    "2- Contribuição Privada\n",
    "\n",
    "Análise: Verifica-se que entre os aposentados, a maioria dos indivíduos optou pela contribuição pública, essa porcentagem é ainda maior quando utilizamos o espaço amostral inteiro(todos a população)."
   ]
  },
  {
   "cell_type": "code",
   "execution_count": 20,
   "metadata": {
    "collapsed": false
   },
   "outputs": [
    {
     "data": {
      "text/plain": [
       "<matplotlib.text.Text at 0x1952d736748>"
      ]
     },
     "execution_count": 20,
     "metadata": {},
     "output_type": "execute_result"
    },
    {
     "data": {
      "image/png": "[encoded data removed]",
      "text/plain": [
       "<matplotlib.figure.Figure at 0x1952d7165c0>"
      ]
     },
     "metadata": {},
     "output_type": "display_data"
    }
   ],
   "source": [
    "plot = ut10.plot(kind='bar',title='Cor/Raça no Brasil',figsize=(6, 6),color=('b','g'))\n",
    "plt.ylabel('Freq.Relativa')\n",
    "plt.xlabel('Cor/Raça')"
   ]
  },
  {
   "cell_type": "markdown",
   "metadata": {},
   "source": [
    "Legenda:\n",
    "2- Branca\n",
    "4- Preta\n",
    "6- Amarela\n",
    "9- Parda\n",
    "0- Indígena\n",
    "9- Sem declaração\n",
    "\n",
    "Análise: A partir deste gráfico percebe-se que a maior parte dos indivíduos é branca e a outra parte é, em sua maioria, de raça preta."
   ]
  },
  {
   "cell_type": "code",
   "execution_count": 27,
   "metadata": {
    "collapsed": false
   },
   "outputs": [
    {
     "data": {
      "text/plain": [
       "4.0    19628\n",
       "2.0    19015\n",
       "Name: V0302, dtype: int64"
      ]
     },
     "execution_count": 27,
     "metadata": {},
     "output_type": "execute_result"
    }
   ],
   "source": [
    "dados.sexap.value_counts()"
   ]
  },
  {
   "cell_type": "code",
   "execution_count": 47,
   "metadata": {
    "collapsed": false
   },
   "outputs": [
    {
     "name": "stdout",
     "output_type": "stream",
     "text": [
      "Frequência Relativa da contribuição privada nos aposentados de sexo feminino\n",
      "4    99.5\n",
      "2     2.0\n",
      "Name: V9120, dtype: float64 \n",
      "\n"
     ]
    },
    {
     "data": {
      "text/plain": [
       "<matplotlib.text.Text at 0x1952e1a56d8>"
      ]
     },
     "execution_count": 47,
     "metadata": {},
     "output_type": "execute_result"
    },
    {
     "data": {
      "image/png": "[encoded data removed]",
      "text/plain": [
       "<matplotlib.figure.Figure at 0x1952df90e10>"
      ]
     },
     "metadata": {},
     "output_type": "display_data"
    }
   ],
   "source": [
    "\n",
    "print('Frequência Relativa da contribuição privada nos aposentados de sexo feminino')\n",
    "\n",
    "dados.contsex = dados.contr[(dados.aposentado == 1)&(dados.sexo == 4)]\n",
    "dados.contsex = dados.contsex.astype('float')\n",
    "ut11 = (dados.contsex.value_counts()/nap*200).round(decimals=1).reindex(['4','2'])\n",
    "print(ut11,'\\n')\n",
    "\n",
    "\n",
    "plot = ut11.plot(kind='bar',title='Contribuição privada nos aposentados de sexo feminino',figsize=(6, 6),color=('blue','green', 'yellow', 'black'))\n",
    "plt.ylabel('Freq.Relativa')\n",
    "plt.xlabel('Contribuição')"
   ]
  },
  {
   "cell_type": "markdown",
   "metadata": {},
   "source": [
    "Legenda:\n",
    "4- Contribuição pública\n",
    "2- Contribuição privada\n",
    "\n",
    "Análise: A porcentagem de mulheres que optaram pela previdência pública é ainda maior do que entre os aposentados."
   ]
  },
  {
   "cell_type": "code",
   "execution_count": 40,
   "metadata": {
    "collapsed": false
   },
   "outputs": [
    {
     "name": "stdout",
     "output_type": "stream",
     "text": [
      "Frequência Relativa da contribuição privada nos aposentados de sexo feminino\n",
      "4    95.4\n",
      "2     3.1\n",
      "Name: V9120, dtype: float64 \n",
      "\n"
     ]
    },
    {
     "data": {
      "text/plain": [
       "<matplotlib.text.Text at 0x1952dc18f60>"
      ]
     },
     "execution_count": 40,
     "metadata": {},
     "output_type": "execute_result"
    },
    {
     "data": {
      "image/png": "[encoded data removed]",
      "text/plain": [
       "<matplotlib.figure.Figure at 0x1952dd34390>"
      ]
     },
     "metadata": {},
     "output_type": "display_data"
    }
   ],
   "source": [
    "print('Frequência Relativa da contribuição privada nos aposentados de sexo masculino')\n",
    "\n",
    "dados.contsex2 = dados.contr[(dados.aposentado == 1)&(dados.sexo == 2)]\n",
    "dados.contsex2 = dados.contsex2.astype('float')\n",
    "ut12 = (dados.contsex2.value_counts()/nap*200).round(decimals=1).reindex(['4','2'])\n",
    "print(ut12,'\\n')\n",
    "\n",
    "\n",
    "plot = ut12.plot(kind='bar',title='Contribuição privada nos aposentados de sexo masculino',figsize=(6, 6),color=('blue','green', 'yellow', 'black'))\n",
    "plt.ylabel('Freq.Relativa')\n",
    "plt.xlabel('Contribuição')"
   ]
  },
  {
   "cell_type": "markdown",
   "metadata": {},
   "source": [
    "Legenda:\n",
    "4- Contribuição Pública\n",
    "2- Contribuição Privada\n",
    "\n",
    "Análise: A quantidade de homens aposentadas que optaram pela previdência pública é expressivamente menor do que entre as mulheres. Dessa forma, o comportamento é o esperado inicialmente."
   ]
  },
  {
   "cell_type": "markdown",
   "metadata": {},
   "source": [
    "Para efeitos de comparação, a seguir vou sobrepor os gráficos da contribuição pública/privada entre os aposentados de sexo masculino e feminino."
   ]
  },
  {
   "cell_type": "code",
   "execution_count": 53,
   "metadata": {
    "collapsed": false
   },
   "outputs": [
    {
     "data": {
      "image/png": "[encoded data removed]",
      "text/plain": [
       "<matplotlib.figure.Figure at 0x1952e0c9860>"
      ]
     },
     "metadata": {},
     "output_type": "display_data"
    }
   ],
   "source": [
    "plot = ut11.plot(kind='bar',title='Contribuição privada nos aposentados de sexo feminino',figsize=(6, 6),color=('blue'))\n",
    "plot = ut12.plot(kind='bar',title='Contribuição privada nos aposentados de sexo masculino',figsize=(6, 6),color=('grey'))\n"
   ]
  },
  {
   "cell_type": "markdown",
   "metadata": {},
   "source": [
    "Legenda: \n",
    "4- Contribuição Pública\n",
    "2- Contribuição Privada\n",
    "\n",
    "Analise: Percebe-se, a partir da análise deste gráfico, que a contribuição privada dos homens de sexo masculino é significativamente maior."
   ]
  },
  {
   "cell_type": "code",
   "execution_count": 52,
   "metadata": {
    "collapsed": false
   },
   "outputs": [
    {
     "name": "stdout",
     "output_type": "stream",
     "text": [
      "Frequência relativa das faixas de renda entre os aposentados\n"
     ]
    },
    {
     "data": {
      "image/png": "[encoded data removed]",
      "text/plain": [
       "<matplotlib.figure.Figure at 0x1952d85e208>"
      ]
     },
     "metadata": {},
     "output_type": "display_data"
    }
   ],
   "source": [
    "print('Frequência relativa das faixas de renda entre os aposentados')\n",
    "dados.rendap = dados.renda[dados.aposentado == 1]\n",
    "faixarenda= np.arange(0,10000,500)\n",
    "plot= dados.rendap.plot.hist(bins=faixarenda)"
   ]
  },
  {
   "cell_type": "markdown",
   "metadata": {},
   "source": [
    "Analise: Verifica-se que, entre os aposentados, existem três grandes grupos: os que têm renda próxima de um salário mínimo; os que recebem entre 1000 e 1500 reais, e os que recebem entre 4000 e 4500 reais. Para efeitos de comparação, a seguir vou sobrepor o gráfico da renda entre a população geral e entre os aposentados."
   ]
  },
  {
   "cell_type": "code",
   "execution_count": 46,
   "metadata": {
    "collapsed": false
   },
   "outputs": [
    {
     "data": {
      "image/png": "[encoded data removed]",
      "text/plain": [
       "<matplotlib.figure.Figure at 0x1952e0e9e80>"
      ]
     },
     "metadata": {},
     "output_type": "display_data"
    }
   ],
   "source": [
    "plot= dados.rendageral.plot.hist(bins=faixarenda)\n",
    "plot= dados.rendap.plot.hist(bins=faixarenda)"
   ]
  },
  {
   "cell_type": "markdown",
   "metadata": {},
   "source": [
    "Analise: Com este gráfico, evidencia-se que, apesar de os aposentados sejam uma quantidade pequena de indivíduos em comparação com a população total, a renda dos mesmos concentra-se em valores muitos mais altos do que a da população."
   ]
  },
  {
   "cell_type": "code",
   "execution_count": 57,
   "metadata": {
    "collapsed": false
   },
   "outputs": [
    {
     "name": "stdout",
     "output_type": "stream",
     "text": [
      "Frequência relativa das faixas de renda entre os aposentados de sexo feminino\n"
     ]
    },
    {
     "data": {
      "image/png": "[encoded data removed]",
      "text/plain": [
       "<matplotlib.figure.Figure at 0x1952df27c18>"
      ]
     },
     "metadata": {},
     "output_type": "display_data"
    }
   ],
   "source": [
    "print('Frequência relativa das faixas de renda entre os aposentados de sexo feminino')\n",
    "dados.rendapfem = dados.renda[(dados.aposentado == 1)&(dados.sexo == 4)]\n",
    "faixarenda= np.arange(0,10000,500)\n",
    "dados.rendapmasc = dados.renda[(dados.aposentado == 1)&(dados.sexo == 2)]\n",
    "plot= dados.rendapfem.plot.hist(bins=faixarenda)\n",
    "plot= dados.rendapmasc.plot.hist(bins=faixarenda)"
   ]
  },
  {
   "cell_type": "markdown",
   "metadata": {},
   "source": [
    "Legenda: \n",
    "\n",
    "Verde- Renda dos aposentados de sexo masculino\n",
    "\n",
    "Azul- Renda dos aposentados de sexo feminino\n",
    "\n",
    "Análise: De acordo com este gráfico, um dos mais conclusivos até então, percebe-se que a renda dos aposentados de sexo masculino é expressivamente maior do que a renda dos aposentados de sexo feminino. Este gráfico prova ainda mais a minha hipótese inicial de que a contribuição privada e o sexo do indivíduo influenciou indiretamente o bem-estar de determinado grupo de indivíduos."
   ]
  },
  {
   "cell_type": "code",
   "execution_count": 64,
   "metadata": {
    "collapsed": false
   },
   "outputs": [
    {
     "name": "stdout",
     "output_type": "stream",
     "text": [
      "Frequência relativa da contribuição pública e renda dos aposentados\n"
     ]
    },
    {
     "data": {
      "image/png": "[encoded data removed]",
      "text/plain": [
       "<matplotlib.figure.Figure at 0x1952e0aa2b0>"
      ]
     },
     "metadata": {},
     "output_type": "display_data"
    }
   ],
   "source": [
    "print('Frequência relativa da contribuição pública e renda dos aposentados')\n",
    "dados.rendacontrpub = dados.renda[(dados.aposentado == 1)&(dados.contr == 4)]\n",
    "faixarenda= np.arange(0,10000,500)\n",
    "plot= dados.rendacontrpub.plot.hist(bins=faixarenda)"
   ]
  },
  {
   "cell_type": "code",
   "execution_count": 67,
   "metadata": {
    "collapsed": false
   },
   "outputs": [
    {
     "name": "stdout",
     "output_type": "stream",
     "text": [
      "Frequência relativa da contribuição privada e renda dos aposentados\n"
     ]
    },
    {
     "data": {
      "image/png": "[encoded data removed]",
      "text/plain": [
       "<matplotlib.figure.Figure at 0x1952e592898>"
      ]
     },
     "metadata": {},
     "output_type": "display_data"
    }
   ],
   "source": [
    "print('Frequência relativa da contribuição privada e renda dos aposentados')\n",
    "dados.rendacontrpriv = dados.renda[(dados.aposentado == 1)&(dados.contr == 2)]\n",
    "faixarenda= np.arange(0,10000,500)\n",
    "plot= dados.rendacontrpriv.plot.hist(bins=faixarenda)"
   ]
  },
  {
   "cell_type": "markdown",
   "metadata": {},
   "source": [
    "Análise: Comparando a renda com a contribuição privada e pública, percebe-se que a relação da contribuição pública e a privada com a renda não é linear. Dessa forma, a hipótese inicial de que o tipo de contribuição poderia influenciar o bem-estar de um determinado grupo de aposentados foi refutada."
   ]
  },
  {
   "cell_type": "code",
   "execution_count": 69,
   "metadata": {
    "collapsed": false
   },
   "outputs": [
    {
     "name": "stdout",
     "output_type": "stream",
     "text": [
      "Coeficiente angular a:  2607884204.71\n",
      "Coeficiente linear b:  43839170374.9\n"
     ]
    },
    {
     "data": {
      "text/plain": [
       "<matplotlib.text.Text at 0x1952df33cf8>"
      ]
     },
     "execution_count": 69,
     "metadata": {},
     "output_type": "execute_result"
    },
    {
     "data": {
      "image/png": "[encoded data removed]",
      "text/plain": [
       "<matplotlib.figure.Figure at 0x1952df43eb8>"
      ]
     },
     "metadata": {},
     "output_type": "display_data"
    }
   ],
   "source": [
    "def scatter_and_line(dataframe, column1, column2):\n",
    "    \"\"\" Recebe um dataframe e o nome de suas duas colunas, e faz\n",
    "        o scatterplot dos dois e tenta achar a reta de tendência\n",
    "    \"\"\"\n",
    "    a = dataframe[column1].cov(dataframe[column2]) / dataframe[column1].var()\n",
    "    b = dataframe[column2].mean() - a * dataframe[column1].mean()\n",
    "\n",
    "    dataframe.plot.scatter(x=column1, y=column2, color='red')\n",
    "\n",
    "    import matplotlib.pyplot as plt\n",
    "    plt.plot((dataframe[column1].min(), dataframe[column1].max()), (a * dataframe[column1].min() + b, a * dataframe[column1].max() + b), color='blue')\n",
    "    \n",
    "    print(\"Coeficiente angular a: \", a)\n",
    "    print(\"Coeficiente linear b: \", b)\n",
    "    \n",
    "    \n",
    "scatter_and_line(dados, \"V4803\", \"V1022\" )\n",
    "plt.xlabel(\"Anos de estudo\")\n",
    "plt.ylabel(\"Renda\")"
   ]
  },
  {
   "cell_type": "markdown",
   "metadata": {},
   "source": [
    "Analise: A partir deste dados, verifica-se que quanto maior os anos de estudo, maior a renda."
   ]
  },
  {
   "cell_type": "code",
   "execution_count": 91,
   "metadata": {
    "collapsed": false
   },
   "outputs": [
    {
     "name": "stdout",
     "output_type": "stream",
     "text": [
      "Frequência relativa da contribuição privada e renda dos aposentados\n"
     ]
    },
    {
     "data": {
      "image/png": "[encoded data removed]",
      "text/plain": [
       "<matplotlib.figure.Figure at 0x1956c797320>"
      ]
     },
     "metadata": {},
     "output_type": "display_data"
    }
   ],
   "source": [
    "print('Frequência relativa da contribuição privada e renda dos aposentados')\n",
    "dados.rendapb = dados.renda[(dados.aposentado == 1)&(dados.cor_raca == 2)]\n",
    "faixarenda= np.arange(0,10000,500)\n",
    "dados.rendapp = dados.renda[(dados.aposentado == 1)&(dados.cor_raca == 6)]\n",
    "plot= dados.rendapb.plot.hist(bins=faixarenda)\n",
    "plot= dados.rendapp.plot.hist(bins=faixarenda)"
   ]
  },
  {
   "cell_type": "markdown",
   "metadata": {},
   "source": [
    "Analise: Este é um gráfico da renda dos brancos aposentados(em azul) e os amarelos(em verde).,A partir dos dados, verifica-se que a variável cor/raça não tem uma correlação linear com a renda e, portanto, com o bem-estar."
   ]
  },
  {
   "cell_type": "markdown",
   "metadata": {},
   "source": [
    "Conclusão: De acordo com a análise de correlações feita para cada uma das variáveis, conclui-se que \"anos de estudo\" e \"sexo\" influenciaram indiretamente durante às últimas décadas o bem-estar dos aposentados atualmente. \"Cor/Raça\" e \"Contribuição Privada/Pública\" não tiveram uma correlação linear com a renda dos aposentados. Esta análise atual do bem-estar do grupo de aposentados é interessante para evidenciar alguns importantes fatores históricos do Brasil no último século através das hipoteses iniciais. Não é possível tirar conclusões precisas a partir dos dados, pois não foram utilizadas variáveis suficientes para determinar tais correlações, no entanto, pode-se dizer que as seguintes hipoteses não foram refutadas:\n",
    "\n",
    "-Homens aposentados têm um salário maior porque no último século investiram mais tempo na sua carreira;\n",
    "\n",
    "-Quanto mais instrução determinado grupo de aposentados tiver, maiores as chances de os mesmos viverem com uma qualidade de vidar melhor.\n",
    "\n",
    "\n",
    "Para realizar esta análise, utilizei a seguintes fontes:\n",
    "\n",
    "http://www.vivoseudinheiro.com.br/previdencia-publica-x-privada-entenda-as-diferencas/\n",
    "\n",
    "http://agenciabrasil.ebc.com.br/economia/noticia/2016-07/mais-de-50-dos-brasileiros-nao-fazem-qualquer-reserva-para-aposentadoria  - Esta, afirma que grande parte dos brasileiros não se preparam para a sua aposentadoria, o que é evidenciado pelo fato de que a vasta maioria opta pela previdência pública."
   ]
  }
 ],
 "metadata": {
  "anaconda-cloud": {},
  "kernelspec": {
   "display_name": "Python [Root]",
   "language": "python",
   "name": "Python [Root]"
  },
  "language_info": {
   "codemirror_mode": {
    "name": "ipython",
    "version": 3
   },
   "file_extension": ".py",
   "mimetype": "text/x-python",
   "name": "python",
   "nbconvert_exporter": "python",
   "pygments_lexer": "ipython3",
   "version": "3.5.2"
  }
 },
 "nbformat": 4,
 "nbformat_minor": 0
}
