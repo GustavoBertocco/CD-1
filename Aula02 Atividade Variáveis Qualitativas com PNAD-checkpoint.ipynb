{
 "cells": [
  {
   "cell_type": "markdown",
   "metadata": {},
   "source": [
    "___\n",
    "# Atividade: Variáveis qualitativas com a PNAD (ALUNOS)\n",
    "___\n",
    "\n",
    "## Aula 02\n",
    "\n",
    "\n",
    "**Link úteis:**\n",
    "1.\tLeitura prévia necessária: Magalhães e Lima (7ª. Edição): pág. 9 a 16 – destacando para variáveis qualitativas.\n",
    "2.\t10 Minutes to Pandas: http://pandas.pydata.org/pandas-docs/stable/10min.html\n",
    "3.\tEssential Basic Functionality: http://pandas.pydata.org/pandas-docs/stable/basics.html\n",
    "4.  Estude a aula `Aula02 Análise Exploratoria Variáveis Qualitativas-ALUNOS.ipynb`, o qual contém uma introdução ao Jupyter Notebook. A publicação dessa aula tem como objetivo auxiliá-lo, caso queira, no desenvolvimento dos seus próximos programas, como esta atividade.\n",
    "\n",
    "**Hoje:**\n",
    "1.\tAnalisar variáveis qualitativas de forma uni e bivariadas utilizando tabelas de frequências e gráficos de barras e de pizza (ou setor).\n",
    "2.  Trabalhar com a base de dados da PNAD 2013 - Pesquisa Nacional por Amostra de Domicílios\n",
    "\n",
    "**Próxima aula:**\n",
    "1.\tLeitura prévia necessária: Magalhães e Lima (7ª. Edição): pág. 9 a 17 – destacando para variáveis quantitativas; pág. 106 e 107 (Definição 4.1 e Exemplo 4.1).\n",
    "\n",
    "___\n"
   ]
  },
  {
   "cell_type": "markdown",
   "metadata": {},
   "source": [
    "___\n",
    "## <font color='blue'>PNAD 2013 – PESQUISA NACIONAL POR AMOSTRA DE DOMICÍLIOS</font>\n",
    "\n",
    "**Base de dados reduzida: ** `pes2013A.txt` (75 MB)\n",
    "[Acesse a base de dados aqui: https://dl.dropboxusercontent.com/u/65763596/Aula02/pes2013A.txt] \n",
    "\n",
    "**Dicionário das variáveis: ** `Dicionário de variáveis de pessoas - PNAD 2013.xlsx`\n",
    "[Acesse dicionário aqui: https://dl.dropboxusercontent.com/u/65763596/Aula02/Dicion%C3%A1rio%20de%20vari%C3%A1veis%20de%20pessoas%20-%20PNAD%202013.xls]\n",
    "\n",
    "\n",
    "Muitos especialistas na área de negócios dizem que empresários mais bem sucedidos são aqueles que fazem um planejamento antes de começar seu próprio negócio. Nessa visão, imagine que o Sr. Gold tenha como grande objetivo abrir uma nova faculdade e para isso deseja estudar o perfil do estudante que cursa ensino médio ou pré-vestibular e do que cursa ensino superior. \n",
    "\n",
    "Assuma que as variáveis de interesse a respeito dos estudantes sejam relativamente as mesmas de 2013 até o momento atual. Nesse caso, seja criativo para ajudar o Sr. Gold que deseja abrir seu negócio, mas não tem certeza sobre quais variáveis o interessam. \n",
    "\n",
    "Vocês podem ajudá-lo?!  \n",
    "\n",
    "As variáveis a seguir devem fazer parte da sua análise:\n",
    "\n",
    "* V0302: sexo\n",
    "* V0404: cor ou raça\n",
    "* V6002: rede de ensino\n",
    "* V4802: nível de ensino e grupos de séries do ensino fundamental que frequentavam (todos os estudantes)\n",
    "\n",
    "** Crie uma variável com região do indivíduo amostrado considerando a variável `UF` que define o estado e também trabalhe com essa nova variável em suas análises. ** \n",
    "\n",
    "** Escolha mais pelo menos DUAS variáveis qualitativas para completar sua análise!! **\n",
    "\n",
    "Faça uma análise exploratória apenas com as variáveis qualitativas com foco no objetivo do Sr. Gold.\n",
    "\n",
    "Sua análise deve conter pelo menos uma das seguintes visualizações:\n",
    "\n",
    "1. Gráfico de colunas (bar) e setor (pie) com as frequências relativas cadas categorias das variáveis qualitativas.\n",
    "2. Tabela cruzada entre pares de variaveis qualitativas. Montar o gráfico de colunas. Repetir o processo habilitando a opção \"stacked=True\".\n",
    "\n",
    "\n",
    "___\n",
    "\n",
    "\n",
    "<font color='red'>\n",
    "Crie um repositório chamado CD em seu Github\n",
    "</font>\n",
    "\n",
    "\n",
    "Neste repositório, salve seu trabalho numa pasta chamada aula2\n",
    "\n",
    "Por exemplo, se seu login for *pikachu* o projeto vai estar na pasta:\n",
    "\n",
    "https://github.com/<font color=red>pikachu/CD/aula2</font>\n",
    "\n",
    "\n",
    "\n",
    "## <font color='red'>Terça-feira (dia 16/08), no horário de atendimento da sua turma, deverá apresentar aos NINJAS!!</font>\n",
    "___"
   ]
  },
  {
   "cell_type": "code",
   "execution_count": 1,
   "metadata": {
    "collapsed": false
   },
   "outputs": [],
   "source": [
    "%matplotlib inline\n",
    "import pandas as pd\n",
    "import numpy as np\n",
    "import matplotlib.pyplot as plt\n",
    "import os\n"
   ]
  },
  {
   "cell_type": "code",
   "execution_count": 2,
   "metadata": {
    "collapsed": false
   },
   "outputs": [
    {
     "name": "stdout",
     "output_type": "stream",
     "text": [
      "Esperamos trabalhar no diretório\n",
      "C:\\Users\\Victor\\Downloads\n"
     ]
    }
   ],
   "source": [
    "print('Esperamos trabalhar no diretório')\n",
    "print(os.getcwd())"
   ]
  },
  {
   "cell_type": "code",
   "execution_count": 3,
   "metadata": {
    "collapsed": true
   },
   "outputs": [],
   "source": [
    "#Escolher mais 2 variáveV0302: sexo\n",
    "\n",
    "# V0302: sexo\n",
    "# V0404: cor ou raça\n",
    "# V6002: rede de ensino\n",
    "# V4802: nível de ensino e grupos de séries do ensino fundamental que frequentavam (todos os estudantes)is qualitativas\n",
    "# V0101: Unidade da Federação\n",
    "# V9058: Número de horas habitualmente trabalhadas por semana no trabalho principal da semana de referência\n",
    "# V06112: Tem telefone móvel celular para uso pessoal\n",
    "\n",
    "\n",
    "\n",
    "\n",
    "\n",
    "\n",
    "\n",
    "\n",
    "\n",
    "\n"
   ]
  },
  {
   "cell_type": "code",
   "execution_count": 4,
   "metadata": {
    "collapsed": false
   },
   "outputs": [],
   "source": [
    "dados = pd.read_table('pes2013A.txt', sep=\" \")\n",
    "\n",
    "\n",
    "\n"
   ]
  },
  {
   "cell_type": "code",
   "execution_count": 5,
   "metadata": {
    "collapsed": false
   },
   "outputs": [
    {
     "data": {
      "text/html": [
       "<div>\n",
       "<table border=\"1\" class=\"dataframe\">\n",
       "  <thead>\n",
       "    <tr style=\"text-align: right;\">\n",
       "      <th></th>\n",
       "      <th>V0101</th>\n",
       "      <th>UF</th>\n",
       "      <th>V0102</th>\n",
       "      <th>V0103</th>\n",
       "      <th>V0301</th>\n",
       "      <th>V0302</th>\n",
       "      <th>V8005</th>\n",
       "      <th>V0404</th>\n",
       "      <th>V4011</th>\n",
       "      <th>V0412</th>\n",
       "      <th>...</th>\n",
       "      <th>V4706</th>\n",
       "      <th>V4707</th>\n",
       "      <th>V4809</th>\n",
       "      <th>V4810</th>\n",
       "      <th>V4711</th>\n",
       "      <th>V4718</th>\n",
       "      <th>V4720</th>\n",
       "      <th>V4742</th>\n",
       "      <th>V4750</th>\n",
       "      <th>V4729</th>\n",
       "    </tr>\n",
       "  </thead>\n",
       "  <tbody>\n",
       "    <tr>\n",
       "      <th>1</th>\n",
       "      <td>2013</td>\n",
       "      <td>11</td>\n",
       "      <td>15</td>\n",
       "      <td>3</td>\n",
       "      <td>1</td>\n",
       "      <td>4</td>\n",
       "      <td>42</td>\n",
       "      <td>2</td>\n",
       "      <td>5.0</td>\n",
       "      <td>2</td>\n",
       "      <td>...</td>\n",
       "      <td>NaN</td>\n",
       "      <td>NaN</td>\n",
       "      <td>NaN</td>\n",
       "      <td>NaN</td>\n",
       "      <td>NaN</td>\n",
       "      <td>NaN</td>\n",
       "      <td>350.0</td>\n",
       "      <td>350.0</td>\n",
       "      <td>350.0</td>\n",
       "      <td>244</td>\n",
       "    </tr>\n",
       "    <tr>\n",
       "      <th>2</th>\n",
       "      <td>2013</td>\n",
       "      <td>11</td>\n",
       "      <td>15</td>\n",
       "      <td>4</td>\n",
       "      <td>1</td>\n",
       "      <td>4</td>\n",
       "      <td>64</td>\n",
       "      <td>8</td>\n",
       "      <td>7.0</td>\n",
       "      <td>2</td>\n",
       "      <td>...</td>\n",
       "      <td>NaN</td>\n",
       "      <td>NaN</td>\n",
       "      <td>NaN</td>\n",
       "      <td>NaN</td>\n",
       "      <td>NaN</td>\n",
       "      <td>NaN</td>\n",
       "      <td>678.0</td>\n",
       "      <td>339.0</td>\n",
       "      <td>339.0</td>\n",
       "      <td>243</td>\n",
       "    </tr>\n",
       "    <tr>\n",
       "      <th>3</th>\n",
       "      <td>2013</td>\n",
       "      <td>11</td>\n",
       "      <td>15</td>\n",
       "      <td>4</td>\n",
       "      <td>2</td>\n",
       "      <td>4</td>\n",
       "      <td>13</td>\n",
       "      <td>4</td>\n",
       "      <td>0.0</td>\n",
       "      <td>2</td>\n",
       "      <td>...</td>\n",
       "      <td>NaN</td>\n",
       "      <td>NaN</td>\n",
       "      <td>NaN</td>\n",
       "      <td>NaN</td>\n",
       "      <td>NaN</td>\n",
       "      <td>NaN</td>\n",
       "      <td>0.0</td>\n",
       "      <td>339.0</td>\n",
       "      <td>339.0</td>\n",
       "      <td>243</td>\n",
       "    </tr>\n",
       "    <tr>\n",
       "      <th>4</th>\n",
       "      <td>2013</td>\n",
       "      <td>11</td>\n",
       "      <td>15</td>\n",
       "      <td>5</td>\n",
       "      <td>1</td>\n",
       "      <td>2</td>\n",
       "      <td>23</td>\n",
       "      <td>8</td>\n",
       "      <td>0.0</td>\n",
       "      <td>2</td>\n",
       "      <td>...</td>\n",
       "      <td>1.0</td>\n",
       "      <td>3.0</td>\n",
       "      <td>5.0</td>\n",
       "      <td>5.0</td>\n",
       "      <td>1.0</td>\n",
       "      <td>800.0</td>\n",
       "      <td>800.0</td>\n",
       "      <td>266.0</td>\n",
       "      <td>266.0</td>\n",
       "      <td>243</td>\n",
       "    </tr>\n",
       "    <tr>\n",
       "      <th>5</th>\n",
       "      <td>2013</td>\n",
       "      <td>11</td>\n",
       "      <td>15</td>\n",
       "      <td>5</td>\n",
       "      <td>2</td>\n",
       "      <td>4</td>\n",
       "      <td>19</td>\n",
       "      <td>8</td>\n",
       "      <td>0.0</td>\n",
       "      <td>2</td>\n",
       "      <td>...</td>\n",
       "      <td>NaN</td>\n",
       "      <td>NaN</td>\n",
       "      <td>NaN</td>\n",
       "      <td>NaN</td>\n",
       "      <td>NaN</td>\n",
       "      <td>NaN</td>\n",
       "      <td>0.0</td>\n",
       "      <td>266.0</td>\n",
       "      <td>266.0</td>\n",
       "      <td>243</td>\n",
       "    </tr>\n",
       "  </tbody>\n",
       "</table>\n",
       "<p>5 rows × 72 columns</p>\n",
       "</div>"
      ],
      "text/plain": [
       "   V0101  UF  V0102  V0103  V0301  V0302  V8005  V0404  V4011  V0412  ...    \\\n",
       "1   2013  11     15      3      1      4     42      2    5.0      2  ...     \n",
       "2   2013  11     15      4      1      4     64      8    7.0      2  ...     \n",
       "3   2013  11     15      4      2      4     13      4    0.0      2  ...     \n",
       "4   2013  11     15      5      1      2     23      8    0.0      2  ...     \n",
       "5   2013  11     15      5      2      4     19      8    0.0      2  ...     \n",
       "\n",
       "   V4706  V4707  V4809  V4810  V4711  V4718  V4720  V4742  V4750  V4729  \n",
       "1    NaN    NaN    NaN    NaN    NaN    NaN  350.0  350.0  350.0    244  \n",
       "2    NaN    NaN    NaN    NaN    NaN    NaN  678.0  339.0  339.0    243  \n",
       "3    NaN    NaN    NaN    NaN    NaN    NaN    0.0  339.0  339.0    243  \n",
       "4    1.0    3.0    5.0    5.0    1.0  800.0  800.0  266.0  266.0    243  \n",
       "5    NaN    NaN    NaN    NaN    NaN    NaN    0.0  266.0  266.0    243  \n",
       "\n",
       "[5 rows x 72 columns]"
      ]
     },
     "execution_count": 5,
     "metadata": {},
     "output_type": "execute_result"
    }
   ],
   "source": [
    "dados.head()"
   ]
  },
  {
   "cell_type": "code",
   "execution_count": 6,
   "metadata": {
    "collapsed": false
   },
   "outputs": [],
   "source": [
    "dados.shape\n",
    "n= dados.shape[0]"
   ]
  },
  {
   "cell_type": "code",
   "execution_count": 7,
   "metadata": {
    "collapsed": false
   },
   "outputs": [
    {
     "data": {
      "text/plain": [
       "['V0101',\n",
       " 'UF',\n",
       " 'V0102',\n",
       " 'V0103',\n",
       " 'V0301',\n",
       " 'V0302',\n",
       " 'V8005',\n",
       " 'V0404',\n",
       " 'V4011',\n",
       " 'V0412',\n",
       " 'V0501',\n",
       " 'V0502',\n",
       " 'V5030',\n",
       " 'V0504',\n",
       " 'V0505',\n",
       " 'V5061',\n",
       " 'V5062',\n",
       " 'V5063',\n",
       " 'V5064',\n",
       " 'V5065',\n",
       " 'V0601',\n",
       " 'V0602',\n",
       " 'V6002',\n",
       " 'V6020',\n",
       " 'V6003',\n",
       " 'V0606',\n",
       " 'V6007',\n",
       " 'V0611',\n",
       " 'V06111',\n",
       " 'V061111',\n",
       " 'V061112',\n",
       " 'V061113',\n",
       " 'V061114',\n",
       " 'V06112',\n",
       " 'V9001',\n",
       " 'V9906',\n",
       " 'V9907',\n",
       " 'V9029',\n",
       " 'V9030',\n",
       " 'V9031',\n",
       " 'V9032',\n",
       " 'V9042',\n",
       " 'V9043',\n",
       " 'V9044',\n",
       " 'V9045',\n",
       " 'V9046',\n",
       " 'V9047',\n",
       " 'V9048',\n",
       " 'V1091',\n",
       " 'V1092',\n",
       " 'V1101',\n",
       " 'V1141',\n",
       " 'V1142',\n",
       " 'V1151',\n",
       " 'V1152',\n",
       " 'V1153',\n",
       " 'V1154',\n",
       " 'V4801',\n",
       " 'V4802',\n",
       " 'V4803',\n",
       " 'V4704',\n",
       " 'V4805',\n",
       " 'V4706',\n",
       " 'V4707',\n",
       " 'V4809',\n",
       " 'V4810',\n",
       " 'V4711',\n",
       " 'V4718',\n",
       " 'V4720',\n",
       " 'V4742',\n",
       " 'V4750',\n",
       " 'V4729']"
      ]
     },
     "execution_count": 7,
     "metadata": {},
     "output_type": "execute_result"
    }
   ],
   "source": [
    "list(dados)"
   ]
  },
  {
   "cell_type": "code",
   "execution_count": 8,
   "metadata": {
    "collapsed": false
   },
   "outputs": [],
   "source": [
    "dados.sexo = dados.V0302.astype('float') #Colocar como categoria.\n",
    "dados.cor_raca = dados.V0404.astype('float')\n",
    "dados.rede= dados.V6002.astype('float')\n",
    "dados.nivel_ensino = dados.V4802.astype('float')\n",
    "dados.UF = dados.UF.astype('float')\n",
    "\n",
    "#dados.horas_semana = dados.V9058.astype('category')\n",
    "\n",
    "dados.telefone = dados.V06112.astype('float')\n",
    "dados.esc = dados.V0606.astype('float')\n",
    "# V0302: sexo\n",
    "# V0404: cor ou raça\n",
    "# V6002: rede de ensino\n",
    "# V4802: nível de ensino e grupos de séries do ensino fundamental que frequentavam (todos os estudantes)is qualitativas\n",
    "# V0101: Unidade da Federação\n",
    "\n",
    "# V9058: Número de horas habitualmente trabalhadas por semana no trabalho principal da semana de referência\n",
    "\n",
    "# V06112: Tem telefone móvel celular para uso pessoal\n",
    "#V0606: Frequentou anteriormente escola ou creche\n",
    "\n",
    "\n",
    "\n"
   ]
  },
  {
   "cell_type": "code",
   "execution_count": 9,
   "metadata": {
    "collapsed": false,
    "scrolled": true
   },
   "outputs": [
    {
     "name": "stdout",
     "output_type": "stream",
     "text": [
      "Frequência relativa do Sexo:\n",
      "4    51.4\n",
      "2    48.6\n",
      "Name: V0302, dtype: float64 \n",
      "\n",
      "Frequência relativa Cor/Raça:\n",
      "8    48.0\n",
      "2    42.8\n",
      "4     8.3\n",
      "0     0.5\n",
      "6     0.4\n",
      "9     0.0\n",
      "Name: V0404, dtype: float64 \n",
      "\n",
      "Frequências relativa da rede de ensino:\n",
      "2.0    21.5\n",
      "4.0     6.9\n",
      "Name: V6002, dtype: float64 \n",
      "\n",
      "Frequências relativa da nível de ensino:\n",
      "7.0     7.0\n",
      "8.0     6.3\n",
      "10.0    4.8\n",
      "11.0    3.8\n",
      "1.0     1.7\n",
      "6.0     1.6\n",
      "5.0     0.6\n",
      "4.0     0.3\n",
      "2.0     0.3\n",
      "9.0     0.1\n",
      "3.0     0.1\n",
      "Name: V4802, dtype: float64 \n",
      "\n",
      "Frequências relativa da Unidade da Federação:\n",
      "35    10.9\n",
      "31     9.1\n",
      "29     7.5\n",
      "43     7.5\n",
      "33     7.1\n",
      "15     6.2\n",
      "26     5.7\n",
      "23     5.3\n",
      "41     5.3\n",
      "52     4.1\n",
      "13     3.6\n",
      "42     2.7\n",
      "53     2.6\n",
      "21     2.6\n",
      "51     2.0\n",
      "11     2.0\n",
      "32     1.9\n",
      "17     1.8\n",
      "50     1.7\n",
      "25     1.7\n",
      "28     1.7\n",
      "22     1.5\n",
      "27     1.5\n",
      "24     1.4\n",
      "12     1.2\n",
      "16     0.8\n",
      "14     0.8\n",
      "Name: UF, dtype: float64 \n",
      "\n",
      "Frequências relativa de ter ou não telefone celular:\n",
      "1.0    64.9\n",
      "3.0    20.7\n",
      "Name: V06112, dtype: float64 \n",
      "\n",
      "Frequências relativa de ter frequentado escola ou creche:\n",
      "2.0    62.2\n",
      "4.0     9.4\n",
      "Name: V0606, dtype: float64 \n",
      "\n"
     ]
    }
   ],
   "source": [
    "print('Frequência relativa do Sexo:')\n",
    "ut1 = (dados.sexo.value_counts()/n*100).round(decimals=1).reindex(['4', '2'])\n",
    "print(ut1,'\\n')\n",
    "\n",
    "print('Frequência relativa Cor/Raça:')\n",
    "ut2 = (dados.cor_raca.value_counts()/n*100).round(decimals=1).reindex(['8','2','4','0','6','9'])\n",
    "print(ut2,'\\n')\n",
    "\n",
    "print('Frequências relativa da rede de ensino:')\n",
    "ut3 = (dados.rede.value_counts()/n*100).round(decimals=1).reindex(['2.0', '4.0'])\n",
    "print(ut3,'\\n')\n",
    "\n",
    "print('Frequências relativa da nível de ensino:')\n",
    "ut4 = (dados.nivel_ensino.value_counts()/n*100).round(decimals=1).reindex(['7.0','8.0','10.0','11.0','1.0','6.0','5.0','4.0','2.0','9.0','3.0'])\n",
    "print(ut4,'\\n')\n",
    "\n",
    "print('Frequências relativa da Unidade da Federação:')\n",
    "ut5 = (dados.UF.value_counts()/n*100).round(decimals=1).reindex(['35','31','29','43','33','15','26','23','41','52','13','42','53','21','51','11','32','17','50',\n",
    "                                                                 '25','28','22','27','24','12','16','14'])\n",
    "print(ut5,'\\n')\n",
    "\n",
    "print('Frequências relativa de ter ou não telefone celular:')\n",
    "ut6 = (dados.telefone.value_counts()/n*100).round(decimals=1).reindex(['1.0', '3.0'])\n",
    "print(ut6,'\\n')\n",
    "\n",
    "print('Frequências relativa de ter frequentado escola ou creche:')\n",
    "ut7 = (dados.esc.value_counts()/n*100).round(decimals=1).reindex(['2.0', '4.0'])\n",
    "print(ut7,'\\n')"
   ]
  },
  {
   "cell_type": "code",
   "execution_count": 10,
   "metadata": {
    "collapsed": false
   },
   "outputs": [
    {
     "data": {
      "text/plain": [
       "<matplotlib.text.Text at 0x1b4c7e1bf28>"
      ]
     },
     "execution_count": 10,
     "metadata": {},
     "output_type": "execute_result"
    },
    {
     "data": {
      "image/png": "[encoded data removed]",
      "text/plain": [
       "<matplotlib.figure.Figure at 0x1b4c79eb5f8>"
      ]
     },
     "metadata": {},
     "output_type": "display_data"
    }
   ],
   "source": [
    "# Gráfico de barras\n",
    "plot = ut1.plot(kind='bar',title='Sexo',figsize=(6, 6),color=('b','g'))\n",
    "plt.ylabel('Freq.Relativa Sexo(em%)')\n",
    "plt.xlabel('Masc/Fem')\n"
   ]
  },
  {
   "cell_type": "code",
   "execution_count": 11,
   "metadata": {
    "collapsed": false
   },
   "outputs": [
    {
     "data": {
      "text/plain": [
       "<matplotlib.text.Text at 0x1b4c7dc9a90>"
      ]
     },
     "execution_count": 11,
     "metadata": {},
     "output_type": "execute_result"
    },
    {
     "data": {
      "image/png": "[encoded data removed]",
      "text/plain": [
       "<matplotlib.figure.Figure at 0x1b4c7d7af28>"
      ]
     },
     "metadata": {},
     "output_type": "display_data"
    }
   ],
   "source": [
    "# Gráfico de barras\n",
    "plot = ut2.plot(kind='bar',title='Cor/Raça',figsize=(6, 6),color=('black','grey','blue','yellow','green','purple'))\n",
    "plt.ylabel('Freq.Relativa Cor/Raça(em%)')\n",
    "plt.xlabel('Cor/Raça')"
   ]
  },
  {
   "cell_type": "code",
   "execution_count": 12,
   "metadata": {
    "collapsed": false
   },
   "outputs": [
    {
     "data": {
      "text/plain": [
       "<matplotlib.text.Text at 0x1b4c937e240>"
      ]
     },
     "execution_count": 12,
     "metadata": {},
     "output_type": "execute_result"
    },
    {
     "data": {
      "image/png": "[encoded data removed]",
      "text/plain": [
       "<matplotlib.figure.Figure at 0x1b4c95bf278>"
      ]
     },
     "metadata": {},
     "output_type": "display_data"
    }
   ],
   "source": [
    "# Gráfico de barras\n",
    "plot = ut3.plot(kind='bar',title='Rede de Ensino',figsize=(6, 6),color=('green','red'))\n",
    "plt.ylabel('Freq.Relativa Rede de Ensino(em%)')\n",
    "plt.xlabel('Rede de Ensino')"
   ]
  },
  {
   "cell_type": "code",
   "execution_count": 13,
   "metadata": {
    "collapsed": false
   },
   "outputs": [
    {
     "data": {
      "text/plain": [
       "<matplotlib.text.Text at 0x1b4c9643c18>"
      ]
     },
     "execution_count": 13,
     "metadata": {},
     "output_type": "execute_result"
    },
    {
     "data": {
      "image/png": "[encoded data removed]",
      "text/plain": [
       "<matplotlib.figure.Figure at 0x1b4c7d8d208>"
      ]
     },
     "metadata": {},
     "output_type": "display_data"
    }
   ],
   "source": [
    "# Gráfico de barras\n",
    "plot = ut4.plot(kind='bar',title='Nivel de Ensino',figsize=(6, 6),color=('blue','grey','yellow','black','green','purple'))\n",
    "plt.ylabel('Freq.Relativa Nível de Ensino(em%)')\n",
    "plt.xlabel('Nível de Ensino')"
   ]
  },
  {
   "cell_type": "code",
   "execution_count": 14,
   "metadata": {
    "collapsed": false
   },
   "outputs": [
    {
     "data": {
      "text/plain": [
       "<matplotlib.text.Text at 0x1b4c96c8e48>"
      ]
     },
     "execution_count": 14,
     "metadata": {},
     "output_type": "execute_result"
    },
    {
     "data": {
      "image/png": "[encoded data removed]",
      "text/plain": [
       "<matplotlib.figure.Figure at 0x1b4d8ff1d30>"
      ]
     },
     "metadata": {},
     "output_type": "display_data"
    }
   ],
   "source": [
    "# Gráfico de barras\n",
    "plot = ut5.plot(kind='bar',title='UF',figsize=(6, 6),color=('blue','grey'))\n",
    "plt.ylabel('Freq.Relativa UF(em%)')\n",
    "plt.xlabel('UF')"
   ]
  },
  {
   "cell_type": "code",
   "execution_count": 15,
   "metadata": {
    "collapsed": false
   },
   "outputs": [
    {
     "data": {
      "text/plain": [
       "<matplotlib.text.Text at 0x1b4d90bdeb8>"
      ]
     },
     "execution_count": 15,
     "metadata": {},
     "output_type": "execute_result"
    },
    {
     "data": {
      "image/png": "[encoded data removed]",
      "text/plain": [
       "<matplotlib.figure.Figure at 0x1b4d90d7198>"
      ]
     },
     "metadata": {},
     "output_type": "display_data"
    }
   ],
   "source": [
    "# Gráfico de barras\n",
    "plot = ut6.plot(kind='bar',title='Telefone',figsize=(6, 6),color=('black','grey','blue','yellow','green','purple'))\n",
    "plt.ylabel('Freq.Relativa Telefone(em%)')\n",
    "plt.xlabel('Telefone')"
   ]
  },
  {
   "cell_type": "code",
   "execution_count": 16,
   "metadata": {
    "collapsed": false
   },
   "outputs": [
    {
     "data": {
      "text/plain": [
       "<matplotlib.text.Text at 0x1b4d90a55c0>"
      ]
     },
     "execution_count": 16,
     "metadata": {},
     "output_type": "execute_result"
    },
    {
     "data": {
      "image/png": "[encoded data removed]",
      "text/plain": [
       "<matplotlib.figure.Figure at 0x1b4d915b358>"
      ]
     },
     "metadata": {},
     "output_type": "display_data"
    }
   ],
   "source": [
    "# Gráfico de barras\n",
    "plot = ut7.plot(kind='bar',title='Escola/Creche',figsize=(6, 6),color=('yellow','black'))\n",
    "plt.ylabel('Freq.Relativa Escola/Creche(em%)')\n",
    "plt.xlabel('Escola/Creche')"
   ]
  },
  {
   "cell_type": "code",
   "execution_count": null,
   "metadata": {
    "collapsed": false
   },
   "outputs": [],
   "source": []
  },
  {
   "cell_type": "code",
   "execution_count": null,
   "metadata": {
    "collapsed": false
   },
   "outputs": [],
   "source": []
  },
  {
   "cell_type": "code",
   "execution_count": 17,
   "metadata": {
    "collapsed": false
   },
   "outputs": [],
   "source": [
    "dados.ix[(dados.UF<=17), 'Regiao'] = 'Norte'\n",
    "dados.ix[(dados.UF>=21) & (dados.UF<31), 'Regiao'] = 'Nordeste'\n",
    "dados.ix[(dados.UF>=31) & (dados.UF<=41), 'Regiao'] = 'Sudeste'\n",
    "dados.ix[(dados.UF>=41) & (dados.UF<50), 'Regiao'] = 'Sul'\n",
    "dados.ix[(dados.UF>=50), 'Regiao'] = 'Centro-Oeste'"
   ]
  },
  {
   "cell_type": "code",
   "execution_count": null,
   "metadata": {
    "collapsed": false
   },
   "outputs": [],
   "source": []
  },
  {
   "cell_type": "code",
   "execution_count": 19,
   "metadata": {
    "collapsed": false
   },
   "outputs": [
    {
     "name": "stdout",
     "output_type": "stream",
     "text": [
      "Tabela Cruzada Sexo por Regiao\n"
     ]
    },
    {
     "data": {
      "text/plain": [
       "<matplotlib.text.Text at 0x1b481287400>"
      ]
     },
     "execution_count": 19,
     "metadata": {},
     "output_type": "execute_result"
    },
    {
     "data": {
      "image/png": "[encoded data removed]",
      "text/plain": [
       "<matplotlib.figure.Figure at 0x1b4803f4ac8>"
      ]
     },
     "metadata": {},
     "output_type": "display_data"
    }
   ],
   "source": [
    "#Tabela cruzada Estado Civil x Plano\n",
    "dados.Regiao = dados.Regiao.astype('category')\n",
    "\n",
    "print('Tabela Cruzada Sexo por Regiao')\n",
    "ct=pd.crosstab(dados.sexo,dados.Regiao,margins=True,rownames=['Sexo'], colnames=['Regiao'])\n",
    "ct\n",
    "\n",
    "ctf = ct.iloc[:2,:5]\n",
    "\n",
    "ctf = (ctf/len(dados)*100).round(decimals=0)\n",
    "plot = ctf.plot(kind='bar')\n",
    "plt.ylabel('Freq.Relativa (em%)')\n",
    "\n",
    "\n"
   ]
  },
  {
   "cell_type": "code",
   "execution_count": 26,
   "metadata": {
    "collapsed": false
   },
   "outputs": [
    {
     "name": "stdout",
     "output_type": "stream",
     "text": [
      "Tabela Cruzada Cor/Raça por Regiao\n"
     ]
    },
    {
     "data": {
      "text/html": [
       "<div>\n",
       "<table border=\"1\" class=\"dataframe\">\n",
       "  <thead>\n",
       "    <tr style=\"text-align: right;\">\n",
       "      <th>Regiao</th>\n",
       "      <th>Centro-Oeste</th>\n",
       "      <th>Nordeste</th>\n",
       "      <th>Norte</th>\n",
       "      <th>Sudeste</th>\n",
       "      <th>Sul</th>\n",
       "      <th>All</th>\n",
       "    </tr>\n",
       "    <tr>\n",
       "      <th>Cor/Raça</th>\n",
       "      <th></th>\n",
       "      <th></th>\n",
       "      <th></th>\n",
       "      <th></th>\n",
       "      <th></th>\n",
       "      <th></th>\n",
       "    </tr>\n",
       "  </thead>\n",
       "  <tbody>\n",
       "    <tr>\n",
       "      <th>0.0</th>\n",
       "      <td>103</td>\n",
       "      <td>398</td>\n",
       "      <td>912</td>\n",
       "      <td>160</td>\n",
       "      <td>115</td>\n",
       "      <td>1688</td>\n",
       "    </tr>\n",
       "    <tr>\n",
       "      <th>2.0</th>\n",
       "      <td>15292</td>\n",
       "      <td>28656</td>\n",
       "      <td>14044</td>\n",
       "      <td>53863</td>\n",
       "      <td>43363</td>\n",
       "      <td>155218</td>\n",
       "    </tr>\n",
       "    <tr>\n",
       "      <th>4.0</th>\n",
       "      <td>2577</td>\n",
       "      <td>10756</td>\n",
       "      <td>4376</td>\n",
       "      <td>9782</td>\n",
       "      <td>2639</td>\n",
       "      <td>30130</td>\n",
       "    </tr>\n",
       "    <tr>\n",
       "      <th>6.0</th>\n",
       "      <td>193</td>\n",
       "      <td>280</td>\n",
       "      <td>180</td>\n",
       "      <td>547</td>\n",
       "      <td>271</td>\n",
       "      <td>1471</td>\n",
       "    </tr>\n",
       "    <tr>\n",
       "      <th>8.0</th>\n",
       "      <td>19362</td>\n",
       "      <td>64501</td>\n",
       "      <td>39675</td>\n",
       "      <td>40776</td>\n",
       "      <td>9728</td>\n",
       "      <td>174042</td>\n",
       "    </tr>\n",
       "    <tr>\n",
       "      <th>9.0</th>\n",
       "      <td>0</td>\n",
       "      <td>6</td>\n",
       "      <td>0</td>\n",
       "      <td>0</td>\n",
       "      <td>0</td>\n",
       "      <td>6</td>\n",
       "    </tr>\n",
       "    <tr>\n",
       "      <th>All</th>\n",
       "      <td>37527</td>\n",
       "      <td>104597</td>\n",
       "      <td>59187</td>\n",
       "      <td>105128</td>\n",
       "      <td>56116</td>\n",
       "      <td>362555</td>\n",
       "    </tr>\n",
       "  </tbody>\n",
       "</table>\n",
       "</div>"
      ],
      "text/plain": [
       "Regiao    Centro-Oeste  Nordeste  Norte  Sudeste    Sul     All\n",
       "Cor/Raça                                                       \n",
       "0.0                103       398    912      160    115    1688\n",
       "2.0              15292     28656  14044    53863  43363  155218\n",
       "4.0               2577     10756   4376     9782   2639   30130\n",
       "6.0                193       280    180      547    271    1471\n",
       "8.0              19362     64501  39675    40776   9728  174042\n",
       "9.0                  0         6      0        0      0       6\n",
       "All              37527    104597  59187   105128  56116  362555"
      ]
     },
     "execution_count": 26,
     "metadata": {},
     "output_type": "execute_result"
    }
   ],
   "source": [
    "print('Tabela Cruzada Cor/Raça por Regiao')\n",
    "ct2=pd.crosstab(dados.cor_raca,dados.Regiao,margins=True,rownames=['Cor/Raça'], colnames=['Regiao'])\n",
    "ct2"
   ]
  },
  {
   "cell_type": "code",
   "execution_count": 27,
   "metadata": {
    "collapsed": false
   },
   "outputs": [
    {
     "data": {
      "text/plain": [
       "<matplotlib.text.Text at 0x1b48056c390>"
      ]
     },
     "execution_count": 27,
     "metadata": {},
     "output_type": "execute_result"
    },
    {
     "data": {
      "image/png": "[encoded data removed]",
      "text/plain": [
       "<matplotlib.figure.Figure at 0x1b48052a278>"
      ]
     },
     "metadata": {},
     "output_type": "display_data"
    }
   ],
   "source": [
    "ct2 = (ct2/len(dados)*100).round(decimals=0)\n",
    "ctf2 = ct2.iloc[:6,:5]\n",
    "plot = ctf2.plot(kind='bar')\n",
    "plt.ylabel('Freq.Relativa (em%)')"
   ]
  },
  {
   "cell_type": "code",
   "execution_count": 35,
   "metadata": {
    "collapsed": false
   },
   "outputs": [
    {
     "name": "stdout",
     "output_type": "stream",
     "text": [
      "Tabela Cruzada Rede de Ensino por Regiao\n"
     ]
    },
    {
     "data": {
      "text/html": [
       "<div>\n",
       "<table border=\"1\" class=\"dataframe\">\n",
       "  <thead>\n",
       "    <tr style=\"text-align: right;\">\n",
       "      <th>Regiao</th>\n",
       "      <th>Centro-Oeste</th>\n",
       "      <th>Nordeste</th>\n",
       "      <th>Norte</th>\n",
       "      <th>Sudeste</th>\n",
       "      <th>Sul</th>\n",
       "      <th>All</th>\n",
       "    </tr>\n",
       "    <tr>\n",
       "      <th>Rede</th>\n",
       "      <th></th>\n",
       "      <th></th>\n",
       "      <th></th>\n",
       "      <th></th>\n",
       "      <th></th>\n",
       "      <th></th>\n",
       "    </tr>\n",
       "  </thead>\n",
       "  <tbody>\n",
       "    <tr>\n",
       "      <th>2.0</th>\n",
       "      <td>7587</td>\n",
       "      <td>23395</td>\n",
       "      <td>16305</td>\n",
       "      <td>19898</td>\n",
       "      <td>10770</td>\n",
       "      <td>77955</td>\n",
       "    </tr>\n",
       "    <tr>\n",
       "      <th>4.0</th>\n",
       "      <td>3111</td>\n",
       "      <td>7953</td>\n",
       "      <td>3155</td>\n",
       "      <td>7307</td>\n",
       "      <td>3663</td>\n",
       "      <td>25189</td>\n",
       "    </tr>\n",
       "    <tr>\n",
       "      <th>All</th>\n",
       "      <td>10698</td>\n",
       "      <td>31348</td>\n",
       "      <td>19460</td>\n",
       "      <td>27205</td>\n",
       "      <td>14433</td>\n",
       "      <td>103144</td>\n",
       "    </tr>\n",
       "  </tbody>\n",
       "</table>\n",
       "</div>"
      ],
      "text/plain": [
       "Regiao  Centro-Oeste  Nordeste  Norte  Sudeste    Sul     All\n",
       "Rede                                                         \n",
       "2.0             7587     23395  16305    19898  10770   77955\n",
       "4.0             3111      7953   3155     7307   3663   25189\n",
       "All            10698     31348  19460    27205  14433  103144"
      ]
     },
     "execution_count": 35,
     "metadata": {},
     "output_type": "execute_result"
    }
   ],
   "source": [
    "print('Tabela Cruzada Rede de Ensino por Regiao')\n",
    "ct3=pd.crosstab(dados.rede,dados.Regiao,margins=True,rownames=['Rede'], colnames=['Regiao'])\n",
    "ct3"
   ]
  },
  {
   "cell_type": "code",
   "execution_count": 36,
   "metadata": {
    "collapsed": false
   },
   "outputs": [
    {
     "data": {
      "text/plain": [
       "<matplotlib.text.Text at 0x1b480a35ac8>"
      ]
     },
     "execution_count": 36,
     "metadata": {},
     "output_type": "execute_result"
    },
    {
     "data": {
      "image/png": "[encoded data removed]",
      "text/plain": [
       "<matplotlib.figure.Figure at 0x1b480987e10>"
      ]
     },
     "metadata": {},
     "output_type": "display_data"
    }
   ],
   "source": [
    "ct3 = (ct3/len(dados)*100).round(decimals=0)\n",
    "ctf3 = ct3.iloc[:2,:5]\n",
    "plot = ctf3.plot(kind='bar')\n",
    "plt.ylabel('Freq.Relativa (em%)')"
   ]
  },
  {
   "cell_type": "code",
   "execution_count": 39,
   "metadata": {
    "collapsed": false
   },
   "outputs": [
    {
     "name": "stdout",
     "output_type": "stream",
     "text": [
      "Tabela Cruzada Nível de Ensino por Regiao\n"
     ]
    },
    {
     "data": {
      "text/html": [
       "<div>\n",
       "<table border=\"1\" class=\"dataframe\">\n",
       "  <thead>\n",
       "    <tr style=\"text-align: right;\">\n",
       "      <th>Regiao</th>\n",
       "      <th>Centro-Oeste</th>\n",
       "      <th>Nordeste</th>\n",
       "      <th>Norte</th>\n",
       "      <th>Sudeste</th>\n",
       "      <th>Sul</th>\n",
       "      <th>All</th>\n",
       "    </tr>\n",
       "    <tr>\n",
       "      <th>Nivel de Ensino</th>\n",
       "      <th></th>\n",
       "      <th></th>\n",
       "      <th></th>\n",
       "      <th></th>\n",
       "      <th></th>\n",
       "      <th></th>\n",
       "    </tr>\n",
       "  </thead>\n",
       "  <tbody>\n",
       "    <tr>\n",
       "      <th>1.0</th>\n",
       "      <td>616</td>\n",
       "      <td>2182</td>\n",
       "      <td>1145</td>\n",
       "      <td>1656</td>\n",
       "      <td>694</td>\n",
       "      <td>6293</td>\n",
       "    </tr>\n",
       "    <tr>\n",
       "      <th>2.0</th>\n",
       "      <td>114</td>\n",
       "      <td>371</td>\n",
       "      <td>238</td>\n",
       "      <td>282</td>\n",
       "      <td>68</td>\n",
       "      <td>1073</td>\n",
       "    </tr>\n",
       "    <tr>\n",
       "      <th>3.0</th>\n",
       "      <td>26</td>\n",
       "      <td>227</td>\n",
       "      <td>49</td>\n",
       "      <td>82</td>\n",
       "      <td>51</td>\n",
       "      <td>435</td>\n",
       "    </tr>\n",
       "    <tr>\n",
       "      <th>4.0</th>\n",
       "      <td>72</td>\n",
       "      <td>367</td>\n",
       "      <td>299</td>\n",
       "      <td>187</td>\n",
       "      <td>167</td>\n",
       "      <td>1092</td>\n",
       "    </tr>\n",
       "    <tr>\n",
       "      <th>5.0</th>\n",
       "      <td>100</td>\n",
       "      <td>454</td>\n",
       "      <td>460</td>\n",
       "      <td>425</td>\n",
       "      <td>723</td>\n",
       "      <td>2162</td>\n",
       "    </tr>\n",
       "    <tr>\n",
       "      <th>6.0</th>\n",
       "      <td>586</td>\n",
       "      <td>1687</td>\n",
       "      <td>1146</td>\n",
       "      <td>1529</td>\n",
       "      <td>737</td>\n",
       "      <td>5685</td>\n",
       "    </tr>\n",
       "    <tr>\n",
       "      <th>7.0</th>\n",
       "      <td>2453</td>\n",
       "      <td>8056</td>\n",
       "      <td>5481</td>\n",
       "      <td>6145</td>\n",
       "      <td>3262</td>\n",
       "      <td>25397</td>\n",
       "    </tr>\n",
       "    <tr>\n",
       "      <th>8.0</th>\n",
       "      <td>2388</td>\n",
       "      <td>7439</td>\n",
       "      <td>4396</td>\n",
       "      <td>6134</td>\n",
       "      <td>2615</td>\n",
       "      <td>22972</td>\n",
       "    </tr>\n",
       "    <tr>\n",
       "      <th>9.0</th>\n",
       "      <td>36</td>\n",
       "      <td>181</td>\n",
       "      <td>133</td>\n",
       "      <td>56</td>\n",
       "      <td>67</td>\n",
       "      <td>473</td>\n",
       "    </tr>\n",
       "    <tr>\n",
       "      <th>10.0</th>\n",
       "      <td>1817</td>\n",
       "      <td>5057</td>\n",
       "      <td>3316</td>\n",
       "      <td>4781</td>\n",
       "      <td>2432</td>\n",
       "      <td>17403</td>\n",
       "    </tr>\n",
       "    <tr>\n",
       "      <th>11.0</th>\n",
       "      <td>1909</td>\n",
       "      <td>3438</td>\n",
       "      <td>2090</td>\n",
       "      <td>3807</td>\n",
       "      <td>2400</td>\n",
       "      <td>13644</td>\n",
       "    </tr>\n",
       "    <tr>\n",
       "      <th>All</th>\n",
       "      <td>10117</td>\n",
       "      <td>29459</td>\n",
       "      <td>18753</td>\n",
       "      <td>25084</td>\n",
       "      <td>13216</td>\n",
       "      <td>96629</td>\n",
       "    </tr>\n",
       "  </tbody>\n",
       "</table>\n",
       "</div>"
      ],
      "text/plain": [
       "Regiao           Centro-Oeste  Nordeste  Norte  Sudeste    Sul    All\n",
       "Nivel de Ensino                                                      \n",
       "1.0                       616      2182   1145     1656    694   6293\n",
       "2.0                       114       371    238      282     68   1073\n",
       "3.0                        26       227     49       82     51    435\n",
       "4.0                        72       367    299      187    167   1092\n",
       "5.0                       100       454    460      425    723   2162\n",
       "6.0                       586      1687   1146     1529    737   5685\n",
       "7.0                      2453      8056   5481     6145   3262  25397\n",
       "8.0                      2388      7439   4396     6134   2615  22972\n",
       "9.0                        36       181    133       56     67    473\n",
       "10.0                     1817      5057   3316     4781   2432  17403\n",
       "11.0                     1909      3438   2090     3807   2400  13644\n",
       "All                     10117     29459  18753    25084  13216  96629"
      ]
     },
     "execution_count": 39,
     "metadata": {},
     "output_type": "execute_result"
    }
   ],
   "source": [
    "print('Tabela Cruzada Nível de Ensino por Regiao')\n",
    "ct4=pd.crosstab(dados.nivel_ensino,dados.Regiao,margins=True,rownames=['Nivel de Ensino'], colnames=['Regiao'])\n",
    "ct4"
   ]
  },
  {
   "cell_type": "code",
   "execution_count": 40,
   "metadata": {
    "collapsed": false
   },
   "outputs": [
    {
     "data": {
      "text/plain": [
       "<matplotlib.text.Text at 0x1b480bc3668>"
      ]
     },
     "execution_count": 40,
     "metadata": {},
     "output_type": "execute_result"
    },
    {
     "data": {
      "image/png": "[encoded data removed]",
      "text/plain": [
       "<matplotlib.figure.Figure at 0x1b480b75588>"
      ]
     },
     "metadata": {},
     "output_type": "display_data"
    }
   ],
   "source": [
    "ct4 = (ct4/len(dados)*100).round(decimals=0)\n",
    "ctf4 = ct4.iloc[:11,:5]\n",
    "plot = ctf4.plot(kind='bar')\n",
    "plt.ylabel('Freq.Relativa (em%)')"
   ]
  },
  {
   "cell_type": "code",
   "execution_count": 41,
   "metadata": {
    "collapsed": false
   },
   "outputs": [
    {
     "name": "stdout",
     "output_type": "stream",
     "text": [
      "Tabela Cruzada Telefone por Regiao\n"
     ]
    },
    {
     "data": {
      "text/html": [
       "<div>\n",
       "<table border=\"1\" class=\"dataframe\">\n",
       "  <thead>\n",
       "    <tr style=\"text-align: right;\">\n",
       "      <th>Regiao</th>\n",
       "      <th>Centro-Oeste</th>\n",
       "      <th>Nordeste</th>\n",
       "      <th>Norte</th>\n",
       "      <th>Sudeste</th>\n",
       "      <th>Sul</th>\n",
       "      <th>All</th>\n",
       "    </tr>\n",
       "    <tr>\n",
       "      <th>Tem Telefone ou Não</th>\n",
       "      <th></th>\n",
       "      <th></th>\n",
       "      <th></th>\n",
       "      <th></th>\n",
       "      <th></th>\n",
       "      <th></th>\n",
       "    </tr>\n",
       "  </thead>\n",
       "  <tbody>\n",
       "    <tr>\n",
       "      <th>1.0</th>\n",
       "      <td>27159</td>\n",
       "      <td>61973</td>\n",
       "      <td>33457</td>\n",
       "      <td>72961</td>\n",
       "      <td>39746</td>\n",
       "      <td>235296</td>\n",
       "    </tr>\n",
       "    <tr>\n",
       "      <th>3.0</th>\n",
       "      <td>5062</td>\n",
       "      <td>26957</td>\n",
       "      <td>15127</td>\n",
       "      <td>18756</td>\n",
       "      <td>9321</td>\n",
       "      <td>75223</td>\n",
       "    </tr>\n",
       "    <tr>\n",
       "      <th>All</th>\n",
       "      <td>32221</td>\n",
       "      <td>88930</td>\n",
       "      <td>48584</td>\n",
       "      <td>91717</td>\n",
       "      <td>49067</td>\n",
       "      <td>310519</td>\n",
       "    </tr>\n",
       "  </tbody>\n",
       "</table>\n",
       "</div>"
      ],
      "text/plain": [
       "Regiao               Centro-Oeste  Nordeste  Norte  Sudeste    Sul     All\n",
       "Tem Telefone ou Não                                                       \n",
       "1.0                         27159     61973  33457    72961  39746  235296\n",
       "3.0                          5062     26957  15127    18756   9321   75223\n",
       "All                         32221     88930  48584    91717  49067  310519"
      ]
     },
     "execution_count": 41,
     "metadata": {},
     "output_type": "execute_result"
    }
   ],
   "source": [
    "print('Tabela Cruzada Telefone por Regiao')\n",
    "ct5=pd.crosstab(dados.telefone,dados.Regiao,margins=True,rownames=['Tem Telefone ou Não'], colnames=['Regiao'])\n",
    "ct5"
   ]
  },
  {
   "cell_type": "code",
   "execution_count": 42,
   "metadata": {
    "collapsed": false
   },
   "outputs": [
    {
     "data": {
      "text/plain": [
       "<matplotlib.text.Text at 0x1b480be7ef0>"
      ]
     },
     "execution_count": 42,
     "metadata": {},
     "output_type": "execute_result"
    },
    {
     "data": {
      "image/png": "[encoded data removed]",
      "text/plain": [
       "<matplotlib.figure.Figure at 0x1b480d886d8>"
      ]
     },
     "metadata": {},
     "output_type": "display_data"
    }
   ],
   "source": [
    "ct5 = (ct5/len(dados)*100).round(decimals=0)\n",
    "ctf5 = ct5.iloc[:2,:5]\n",
    "plot = ctf5.plot(kind='bar')\n",
    "plt.ylabel('Freq.Relativa (em%)')"
   ]
  },
  {
   "cell_type": "code",
   "execution_count": 45,
   "metadata": {
    "collapsed": false
   },
   "outputs": [
    {
     "name": "stdout",
     "output_type": "stream",
     "text": [
      "Tabela Cruzada Escola/Creche por Regiao\n"
     ]
    },
    {
     "data": {
      "text/html": [
       "<div>\n",
       "<table border=\"1\" class=\"dataframe\">\n",
       "  <thead>\n",
       "    <tr style=\"text-align: right;\">\n",
       "      <th>Regiao</th>\n",
       "      <th>Centro-Oeste</th>\n",
       "      <th>Nordeste</th>\n",
       "      <th>Norte</th>\n",
       "      <th>Sudeste</th>\n",
       "      <th>Sul</th>\n",
       "      <th>All</th>\n",
       "    </tr>\n",
       "    <tr>\n",
       "      <th>Escola/Creche</th>\n",
       "      <th></th>\n",
       "      <th></th>\n",
       "      <th></th>\n",
       "      <th></th>\n",
       "      <th></th>\n",
       "      <th></th>\n",
       "    </tr>\n",
       "  </thead>\n",
       "  <tbody>\n",
       "    <tr>\n",
       "      <th>2.0</th>\n",
       "      <td>23221</td>\n",
       "      <td>61339</td>\n",
       "      <td>32367</td>\n",
       "      <td>70445</td>\n",
       "      <td>37970</td>\n",
       "      <td>225342</td>\n",
       "    </tr>\n",
       "    <tr>\n",
       "      <th>4.0</th>\n",
       "      <td>3608</td>\n",
       "      <td>11910</td>\n",
       "      <td>7360</td>\n",
       "      <td>7478</td>\n",
       "      <td>3713</td>\n",
       "      <td>34069</td>\n",
       "    </tr>\n",
       "    <tr>\n",
       "      <th>All</th>\n",
       "      <td>26829</td>\n",
       "      <td>73249</td>\n",
       "      <td>39727</td>\n",
       "      <td>77923</td>\n",
       "      <td>41683</td>\n",
       "      <td>259411</td>\n",
       "    </tr>\n",
       "  </tbody>\n",
       "</table>\n",
       "</div>"
      ],
      "text/plain": [
       "Regiao         Centro-Oeste  Nordeste  Norte  Sudeste    Sul     All\n",
       "Escola/Creche                                                       \n",
       "2.0                   23221     61339  32367    70445  37970  225342\n",
       "4.0                    3608     11910   7360     7478   3713   34069\n",
       "All                   26829     73249  39727    77923  41683  259411"
      ]
     },
     "execution_count": 45,
     "metadata": {},
     "output_type": "execute_result"
    }
   ],
   "source": [
    "print('Tabela Cruzada Escola/Creche por Regiao')\n",
    "ct6=pd.crosstab(dados.esc,dados.Regiao,margins=True,rownames=['Escola/Creche'], colnames=['Regiao'])\n",
    "ct6"
   ]
  },
  {
   "cell_type": "code",
   "execution_count": 46,
   "metadata": {
    "collapsed": false
   },
   "outputs": [
    {
     "data": {
      "text/plain": [
       "<matplotlib.text.Text at 0x1b480f8d978>"
      ]
     },
     "execution_count": 46,
     "metadata": {},
     "output_type": "execute_result"
    },
    {
     "data": {
      "image/png": "[encoded data removed]",
      "text/plain": [
       "<matplotlib.figure.Figure at 0x1b480f28400>"
      ]
     },
     "metadata": {},
     "output_type": "display_data"
    }
   ],
   "source": [
    "ct6 = (ct6/len(dados)*100).round(decimals=0)\n",
    "ctf6 = ct6.iloc[:2,:5]\n",
    "plot = ctf6.plot(kind='bar')\n",
    "plt.ylabel('Freq.Relativa (em%)')"
   ]
  },
  {
   "cell_type": "code",
   "execution_count": null,
   "metadata": {
    "collapsed": true
   },
   "outputs": [],
   "source": []
  }
 ],
 "metadata": {
  "anaconda-cloud": {},
  "kernelspec": {
   "display_name": "Python 3",
   "language": "python",
   "name": "python3"
  },
  "language_info": {
   "codemirror_mode": {
    "name": "ipython",
    "version": 3
   },
   "file_extension": ".py",
   "mimetype": "text/x-python",
   "name": "python",
   "nbconvert_exporter": "python",
   "pygments_lexer": "ipython3",
   "version": "3.5.1"
  }
 },
 "nbformat": 4,
 "nbformat_minor": 0
}
