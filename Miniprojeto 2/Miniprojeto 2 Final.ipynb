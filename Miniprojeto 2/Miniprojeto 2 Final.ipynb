{
 "cells": [
  {
   "cell_type": "markdown",
   "metadata": {},
   "source": [
    "Victor Laperuta de Moura, Gustavo Gobetti - Turma C"
   ]
  },
  {
   "cell_type": "code",
   "execution_count": 1,
   "metadata": {
    "collapsed": true
   },
   "outputs": [],
   "source": [
    "%matplotlib inline\n",
    "import pandas as pd\n",
    "import matplotlib.pyplot as plt\n",
    "import numpy as np\n",
    "from scipy import stats\n",
    "import itertools"
   ]
  },
  {
   "cell_type": "code",
   "execution_count": 2,
   "metadata": {
    "collapsed": false
   },
   "outputs": [
    {
     "name": "stdout",
     "output_type": "stream",
     "text": [
      "A média é:1.1330232152143527\n",
      "A variância é:0.36377009041776315\n"
     ]
    }
   ],
   "source": [
    "#1\n",
    "\n",
    "#1a - A distribuição escolhida foi a log normal.\n",
    "\n",
    "#1b\n",
    "distribuicao_lognorm = stats.lognorm.rvs(0.5, loc=0, scale= 1, size=1000000)\n",
    "\n",
    "#1c\n",
    "print(\"A média é:{}\".format(distribuicao_lognorm.mean()))\n",
    "print(\"A variância é:{}\".format(distribuicao_lognorm.var()))\n"
   ]
  },
  {
   "cell_type": "code",
   "execution_count": 3,
   "metadata": {
    "collapsed": false
   },
   "outputs": [
    {
     "name": "stdout",
     "output_type": "stream",
     "text": [
      "Média amostral:0.45048776880225655\n",
      "Média das médias amostrais:1.134313763701931\n",
      "Variância das médias amostrais:0.1870034763652568\n"
     ]
    },
    {
     "data": {
      "text/plain": [
       "(0, 3)"
      ]
     },
     "execution_count": 3,
     "metadata": {},
     "output_type": "execute_result"
    },
    {
     "data": {
      "image/png": "[encoded data removed]",
      "text/plain": [
       "<matplotlib.figure.Figure at 0x152ea4a0550>"
      ]
     },
     "metadata": {},
     "output_type": "display_data"
    }
   ],
   "source": [
    "#2\n",
    "\n",
    "#2a\n",
    "n=2 # número de amostras, é diferente do número de médias amostrais.\n",
    "\n",
    "#2b\n",
    "amostras = np.random.choice(distribuicao_lognorm,n)\n",
    "\n",
    "#2c\n",
    "media_amostral = amostras.mean()\n",
    "print(\"Média amostral:{}\".format(media_amostral))\n",
    "\n",
    "#2d\n",
    "media_media_amostral = 0\n",
    "medias_amostrais = []\n",
    "for i in range(10000):\n",
    "    amostras = np.random.choice(distribuicao_lognorm,n)\n",
    "    media_amostral = amostras.mean()\n",
    "    medias_amostrais.append(media_amostral)\n",
    "    media_media_amostral += media_amostral\n",
    "media_media_amostral = (media_media_amostral/10000)\n",
    "\n",
    "#2e\n",
    "print(\"Média das médias amostrais:{}\".format(media_media_amostral))\n",
    "medias_amostrais = np.array(medias_amostrais)\n",
    "var_medias_amostrais = medias_amostrais.var()\n",
    "print(\"Variância das médias amostrais:{}\".format(var_medias_amostrais))\n",
    "\n",
    "# Histograma\n",
    "datalog2 = pd.Series(distribuicao_lognorm)\n",
    "hist2 = datalog2.plot(kind=\"hist\", bins = 120, normed=True)\n",
    "plt.xlim((0,8))\n",
    "plt.ylim((0,3))\n"
   ]
  },
  {
   "cell_type": "markdown",
   "metadata": {},
   "source": [
    "Interpretação dos resultados: De acordo com o teorema do limite central, a média das médias amostrais é equivalente à média teórica. No entanto, a variância é equivalente à variância teórica dividida pelo número de amostras. Nesse caso, verifica-se que a variância das médias amostrais deu precisamente igual à variância teórica sobre dois, isso porque o \"n\" nesse caso é dois."
   ]
  },
  {
   "cell_type": "code",
   "execution_count": 16,
   "metadata": {
    "collapsed": false
   },
   "outputs": [
    {
     "name": "stdout",
     "output_type": "stream",
     "text": [
      "Média amostral:1.199928942572317\n",
      "Média das médias amostrais:1.1356046663567207\n",
      "Variância das médias amostrais:0.08999050443557928\n"
     ]
    },
    {
     "data": {
      "text/plain": [
       "(0, 3)"
      ]
     },
     "execution_count": 16,
     "metadata": {},
     "output_type": "execute_result"
    },
    {
     "data": {
      "image/png": "[encoded data removed]",
      "text/plain": [
       "<matplotlib.figure.Figure at 0x152edaee550>"
      ]
     },
     "metadata": {},
     "output_type": "display_data"
    }
   ],
   "source": [
    "#3\n",
    "\n",
    "n=4\n",
    "\n",
    "amostras = np.random.choice(distribuicao_lognorm,n)\n",
    "\n",
    "media_amostral = amostras.mean()\n",
    "print(\"Média amostral:{}\".format(media_amostral))\n",
    "\n",
    "media_media_amostral = 0\n",
    "medias_amostrais = []\n",
    "for i in range(10000):\n",
    "    amostras = np.random.choice(distribuicao_lognorm,n)\n",
    "    media_amostral = amostras.mean()\n",
    "    medias_amostrais.append(media_amostral)\n",
    "    media_media_amostral += media_amostral\n",
    "media_media_amostral = (media_media_amostral/10000)\n",
    "\n",
    "print(\"Média das médias amostrais:{}\".format(media_media_amostral))\n",
    "medias_amostrais = np.array(medias_amostrais)\n",
    "var_medias_amostrais = medias_amostrais.var()\n",
    "print(\"Variância das médias amostrais:{}\".format(var_medias_amostrais))\n",
    "\n",
    "# Histograma\n",
    "datalog4 = pd.Series(medias_amostrais)\n",
    "hist4 = datalog4.plot(kind=\"hist\", bins = 60, normed=True)\n",
    "plt.xlim((0,8))\n",
    "plt.ylim((0,3))\n"
   ]
  },
  {
   "cell_type": "code",
   "execution_count": 5,
   "metadata": {
    "collapsed": false
   },
   "outputs": [
    {
     "name": "stdout",
     "output_type": "stream",
     "text": [
      "Média amostral:1.1768422090685637\n",
      "Média das médias amostrais:1.1357698561619225\n",
      "Variância das médias amostrais:0.017842981562343645\n"
     ]
    },
    {
     "data": {
      "text/plain": [
       "(0, 3)"
      ]
     },
     "execution_count": 5,
     "metadata": {},
     "output_type": "execute_result"
    },
    {
     "data": {
      "image/png": "[encoded data removed]",
      "text/plain": [
       "<matplotlib.figure.Figure at 0x152f4591f60>"
      ]
     },
     "metadata": {},
     "output_type": "display_data"
    }
   ],
   "source": [
    "n=20\n",
    "\n",
    "amostras = np.random.choice(distribuicao_lognorm,n)\n",
    "\n",
    "media_amostral = amostras.mean()\n",
    "print(\"Média amostral:{}\".format(media_amostral))\n",
    "\n",
    "media_media_amostral = 0\n",
    "medias_amostrais = []\n",
    "for i in range(10000):\n",
    "    amostras = np.random.choice(distribuicao_lognorm,n)\n",
    "    media_amostral = amostras.mean()\n",
    "    medias_amostrais.append(media_amostral)\n",
    "    media_media_amostral += media_amostral\n",
    "media_media_amostral = (media_media_amostral/10000)\n",
    "\n",
    "print(\"Média das médias amostrais:{}\".format(media_media_amostral))\n",
    "medias_amostrais = np.array(medias_amostrais)\n",
    "var_medias_amostrais = medias_amostrais.var()\n",
    "print(\"Variância das médias amostrais:{}\".format(var_medias_amostrais))\n",
    "\n",
    "# Histograma\n",
    "datalog20 = pd.Series(medias_amostrais)\n",
    "hist20 = datalog20.plot(kind=\"hist\", bins = 20, normed=True)\n",
    "plt.xlim((0,8))\n",
    "plt.ylim((0,3))\n",
    "\n"
   ]
  },
  {
   "cell_type": "code",
   "execution_count": 6,
   "metadata": {
    "collapsed": false
   },
   "outputs": [
    {
     "name": "stdout",
     "output_type": "stream",
     "text": [
      "Média amostral:1.1065759867569636\n",
      "Média das médias amostrais:1.1326382483342876\n",
      "Variância das médias amostrais:0.0073247138369945215\n"
     ]
    },
    {
     "data": {
      "text/plain": [
       "(0, 3)"
      ]
     },
     "execution_count": 6,
     "metadata": {},
     "output_type": "execute_result"
    },
    {
     "data": {
      "image/png": "[encoded data removed]",
      "text/plain": [
       "<matplotlib.figure.Figure at 0x152ee364390>"
      ]
     },
     "metadata": {},
     "output_type": "display_data"
    }
   ],
   "source": [
    "n=50\n",
    "\n",
    "amostras = np.random.choice(distribuicao_lognorm,n)\n",
    "\n",
    "media_amostral = amostras.mean()\n",
    "print(\"Média amostral:{}\".format(media_amostral))\n",
    "\n",
    "media_media_amostral = 0\n",
    "medias_amostrais = []\n",
    "for i in range(10000):\n",
    "    amostras = np.random.choice(distribuicao_lognorm,n)\n",
    "    media_amostral = amostras.mean()\n",
    "    medias_amostrais.append(media_amostral)\n",
    "    media_media_amostral += media_amostral\n",
    "media_media_amostral = (media_media_amostral/10000)\n",
    "\n",
    "print(\"Média das médias amostrais:{}\".format(media_media_amostral))\n",
    "medias_amostrais = np.array(medias_amostrais)\n",
    "var_medias_amostrais = medias_amostrais.var()\n",
    "print(\"Variância das médias amostrais:{}\".format(var_medias_amostrais))\n",
    "\n",
    "# Histograma\n",
    "datalog50 = pd.Series(medias_amostrais)\n",
    "hist50 = datalog50.plot(kind=\"hist\", bins = 10, normed=True)\n",
    "plt.xlim((0,8))\n",
    "plt.ylim((0,3))\n"
   ]
  },
  {
   "cell_type": "markdown",
   "metadata": {},
   "source": [
    "Item 4: De acordo com o teorema do limite central, a média amostral é igual a média teórica. Porém, o cálculo da variância é feito a partir da variância teórica dividida pelo número de amostras - no caso, o \"n\" da programação acima. Primeiramente, começamos com duas amostras, e, em convergência com o teorema do limite central, a média foi equivalente à média teórica e a variância foi equivalente à variância teórica dividida por dois. Em seguida, aumentamos o número de amostras - fizemos \"n\" ser igual a 4, 20 e 50 - e foi provado que a média e a variância continuam em conformidade com o TLC."
   ]
  },
  {
   "cell_type": "code",
   "execution_count": 7,
   "metadata": {
    "collapsed": false
   },
   "outputs": [
    {
     "data": {
      "text/plain": [
       "<matplotlib.text.Text at 0x152ee588a58>"
      ]
     },
     "execution_count": 7,
     "metadata": {},
     "output_type": "execute_result"
    },
    {
     "data": {
      "image/png": "[encoded data removed]",
      "text/plain": [
       "<matplotlib.figure.Figure at 0x152ea481da0>"
      ]
     },
     "metadata": {},
     "output_type": "display_data"
    }
   ],
   "source": [
    "# último ítem (x1 e x9)\n",
    "#item i\n",
    "amostras = np.random.choice(distribuicao_lognorm,n)\n",
    "\n",
    "\n",
    "lista_x1  = []\n",
    "lista_x9 = []\n",
    "for i in range(10000):\n",
    "    amostras = np.random.choice(distribuicao_lognorm,n)\n",
    "    lista_x1.append(amostras[0])\n",
    "    lista_x9.append(amostras[8])\n",
    "\n",
    "#item ii\n",
    "\n",
    "lista_x1 = np.array(lista_x1)\n",
    "lista_x9 = np.array(lista_x9)\n",
    "datalog1 = pd.Series(lista_x1)\n",
    "hist1 = datalog1.plot(kind=\"hist\", bins=120, normed=True)\n",
    "plt.xlim((0,8))\n",
    "plt.ylim((0,3))\n",
    "plt.title(\"Distribuição de x1\")\n"
   ]
  },
  {
   "cell_type": "code",
   "execution_count": 8,
   "metadata": {
    "collapsed": false
   },
   "outputs": [
    {
     "data": {
      "text/plain": [
       "<matplotlib.text.Text at 0x152ee89fc50>"
      ]
     },
     "execution_count": 8,
     "metadata": {},
     "output_type": "execute_result"
    },
    {
     "data": {
      "image/png": "[encoded data removed]",
      "text/plain": [
       "<matplotlib.figure.Figure at 0x152edaa26d8>"
      ]
     },
     "metadata": {},
     "output_type": "display_data"
    }
   ],
   "source": [
    "#item iii\n",
    "datalog9 = pd.Series(lista_x9)\n",
    "hist9 = datalog1.plot(kind=\"hist\", bins=120, normed=True)\n",
    "plt.xlim((0,8))\n",
    "plt.ylim((0,3))\n",
    "plt.title(\"Distribuição de x9\")\n",
    "\n"
   ]
  },
  {
   "cell_type": "code",
   "execution_count": 9,
   "metadata": {
    "collapsed": false
   },
   "outputs": [
    {
     "data": {
      "text/plain": [
       "<matplotlib.text.Text at 0x152efa7eb38>"
      ]
     },
     "execution_count": 9,
     "metadata": {},
     "output_type": "execute_result"
    },
    {
     "data": {
      "image/png": "[encoded data removed]",
      "text/plain": [
       "<matplotlib.figure.Figure at 0x152ee830278>"
      ]
     },
     "metadata": {},
     "output_type": "display_data"
    }
   ],
   "source": [
    "#item iv\n",
    "hist9 = datalog9.plot(kind=\"hist\", bins=120, normed=True, label=\"x9\")\n",
    "hist1 = datalog1.plot(kind=\"hist\", bins=120, normed=True, label=\"x1\")\n",
    "plt.xlim((0,8))\n",
    "plt.ylim((0,1))\n",
    "plt.legend(loc='upper center', bbox_to_anchor=(0.5, 1.05),\n",
    "          ncol=3, fancybox=True, shadow=True)\n",
    "plt.title(\"Gráfico da distribuição x9 e x1 sobrepostas\")"
   ]
  },
  {
   "cell_type": "markdown",
   "metadata": {},
   "source": [
    "A partir do gráfico das distribuições x1 e x9 acima sobrepostas, percebe-se que as mesmas são identicamente distribuídas. A escala foi alterada para perceber que que a semelhança é realmente muito grande."
   ]
  },
  {
   "cell_type": "code",
   "execution_count": 10,
   "metadata": {
    "collapsed": false
   },
   "outputs": [
    {
     "data": {
      "text/plain": [
       "<matplotlib.text.Text at 0x152efd40a20>"
      ]
     },
     "execution_count": 10,
     "metadata": {},
     "output_type": "execute_result"
    },
    {
     "data": {
      "image/png": "[encoded data removed]",
      "text/plain": [
       "<matplotlib.figure.Figure at 0x152efa55358>"
      ]
     },
     "metadata": {},
     "output_type": "display_data"
    }
   ],
   "source": [
    "hist2 = datalog2.plot(kind=\"hist\", bins=120, normed=True, label=\"X\")\n",
    "hist9 = datalog9.plot(kind=\"hist\", bins=120, normed=True, label=\"x9\")\n",
    "plt.xlim((0,8))\n",
    "plt.ylim((0,1))\n",
    "plt.legend(loc='upper center', bbox_to_anchor=(0.5, 1.05),\n",
    "          ncol=3, fancybox=True, shadow=True)\n",
    "plt.title(\"Gráfico da distribuição x9 e X sobrepostas\")"
   ]
  },
  {
   "cell_type": "markdown",
   "metadata": {},
   "source": [
    "A partir da distribuição de x9 sobreposta à X, evidencia-se que elas são identicamente distribuídas a X. A escala foi alterada para perceber que que a semelhança é realmente muito grande."
   ]
  },
  {
   "cell_type": "code",
   "execution_count": 11,
   "metadata": {
    "collapsed": false
   },
   "outputs": [
    {
     "name": "stdout",
     "output_type": "stream",
     "text": [
      "Correlação entre x1 e x9:-0.01911407090825645\n"
     ]
    }
   ],
   "source": [
    "#item v\n",
    "corr = stats.pearsonr(lista_x1, lista_x9)\n",
    "# o primeiro valor retornado é o coeficiente de correlação\n",
    "\n",
    "print(\"Correlação entre x1 e x9:{}\".format(corr[0]))"
   ]
  },
  {
   "cell_type": "markdown",
   "metadata": {},
   "source": [
    "A correlação entre o x1 e o x9 é muito próxima de zero, indicando a independência entre essas variáveis."
   ]
  },
  {
   "cell_type": "markdown",
   "metadata": {
    "collapsed": true
   },
   "source": [
    "Evidência do TLC nas distribuições:\n",
    "\n",
    "Quanto maior o n, mais estreito deve ser o gráfico."
   ]
  },
  {
   "cell_type": "code",
   "execution_count": 12,
   "metadata": {
    "collapsed": false
   },
   "outputs": [
    {
     "data": {
      "text/plain": [
       "<matplotlib.text.Text at 0x152effeaac8>"
      ]
     },
     "execution_count": 12,
     "metadata": {},
     "output_type": "execute_result"
    },
    {
     "data": {
      "image/png": "[encoded data removed]",
      "text/plain": [
       "<matplotlib.figure.Figure at 0x152efd61c50>"
      ]
     },
     "metadata": {},
     "output_type": "display_data"
    }
   ],
   "source": [
    "hist4 = datalog4.plot(kind=\"hist\", bins=20, normed=True, label=\"n=4\")\n",
    "his50 = datalog50.plot(kind=\"hist\", bins=20, normed=True, label=\"n=50\")\n",
    "plt.xlim((0,8))\n",
    "plt.ylim((0,3))\n",
    "plt.legend(loc='upper center', bbox_to_anchor=(0.5, 1.05),\n",
    "          ncol=3, fancybox=True, shadow=True)\n",
    "plt.title(\"Gráfico da distribuição n=4 e n=50 sobrepostas\")"
   ]
  },
  {
   "cell_type": "markdown",
   "metadata": {},
   "source": [
    "O gráfico acima mostra como o desvio padrão se comporta quando o \"n\" aumenta. Ele se comporta exatamente de acordo com o TLC."
   ]
  },
  {
   "cell_type": "markdown",
   "metadata": {},
   "source": [
    "Conclusão geral:\n",
    "\n",
    "Evidencia-se, através dos gráficos obtidos, que quanto maior o \"n\",menor é o desvio padrão do mesmo. Essa observação converge com o teorema do limite central, o qual relaciona matematicamente a variância da amostra à variância teórica dividida por \"n\". Nesse sentido, com uma amostra de tamanho grande, obtém-se um desvio padrão muito pequeno. Essa propriedade também pode ser verificada através das distribuições obtidas nos itens anteriores: quanto maior a amostra, menor o desvio padrão e, por conseguinte, mais estreito o gráfico é. Pelo fato de a área da distribuição ser equivalente a zero, invariavelmente, quanto mais estreito o gráfico for, maior vai ser a \"altura\" do mesmo, ou seja, os valores vão se concentrar cada vez mais próximos da média teórica. Esse aumento na \"altura\" dos gráficos é extremamente perceptível, percebe-se que ao aumentar cada vez mais o \"n\", a \"altura\" da distribuição também aumenta e os valores ficam mais próximos da média(o desvio padrão é menor)."
   ]
  },
  {
   "cell_type": "code",
   "execution_count": null,
   "metadata": {
    "collapsed": true
   },
   "outputs": [],
   "source": []
  }
 ],
 "metadata": {
  "anaconda-cloud": {},
  "kernelspec": {
   "display_name": "Python [Root]",
   "language": "python",
   "name": "Python [Root]"
  },
  "language_info": {
   "codemirror_mode": {
    "name": "ipython",
    "version": 3
   },
   "file_extension": ".py",
   "mimetype": "text/x-python",
   "name": "python",
   "nbconvert_exporter": "python",
   "pygments_lexer": "ipython3",
   "version": "3.5.2"
  }
 },
 "nbformat": 4,
 "nbformat_minor": 0
}
