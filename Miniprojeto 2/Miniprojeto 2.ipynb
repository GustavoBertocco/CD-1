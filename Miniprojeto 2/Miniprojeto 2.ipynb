{
 "cells": [
  {
   "cell_type": "markdown",
   "metadata": {},
   "source": [
    "Victor Laperuta de Moura, Ana Capriles"
   ]
  },
  {
   "cell_type": "code",
   "execution_count": 88,
   "metadata": {
    "collapsed": true
   },
   "outputs": [],
   "source": [
    "%matplotlib inline\n",
    "import pandas as pd\n",
    "import matplotlib.pyplot as plt\n",
    "import numpy as np\n",
    "from scipy import stats\n",
    "import itertools"
   ]
  },
  {
   "cell_type": "code",
   "execution_count": 78,
   "metadata": {
    "collapsed": false
   },
   "outputs": [
    {
     "name": "stdout",
     "output_type": "stream",
     "text": [
      "A média é:1.1320999656755255\n",
      "A variância é:0.3650378242928859\n"
     ]
    }
   ],
   "source": [
    "#1\n",
    "\n",
    "#1a - A distribuição escolhida foi a log normal.\n",
    "\n",
    "#1b\n",
    "distribuicao_lognorm = stats.lognorm.rvs(0.5, loc=0, scale= 1, size=1000000)\n",
    "\n",
    "#1c\n",
    "print(\"A média é:{}\".format(distribuicao_lognorm.mean()))\n",
    "print(\"A variância é:{}\".format(distribuicao_lognorm.var()))\n"
   ]
  },
  {
   "cell_type": "code",
   "execution_count": 79,
   "metadata": {
    "collapsed": false
   },
   "outputs": [
    {
     "name": "stdout",
     "output_type": "stream",
     "text": [
      "Média amostral:1.5774742820593333\n",
      "Média das médias amostrais:1.130479792675678\n",
      "Variância das médias amostrais:0.17900846391287392\n"
     ]
    },
    {
     "data": {
      "text/plain": [
       "(0, 3)"
      ]
     },
     "execution_count": 79,
     "metadata": {},
     "output_type": "execute_result"
    },
    {
     "data": {
      "image/png": "[encoded data removed]",
      "text/plain": [
       "<matplotlib.figure.Figure at 0x2a4f1072b38>"
      ]
     },
     "metadata": {},
     "output_type": "display_data"
    }
   ],
   "source": [
    "#2\n",
    "\n",
    "#2a\n",
    "n=2\n",
    "\n",
    "#2b\n",
    "amostras = np.random.choice(distribuicao_lognorm,n)\n",
    "\n",
    "#2c\n",
    "media_amostral = amostras.mean()\n",
    "print(\"Média amostral:{}\".format(media_amostral))\n",
    "\n",
    "#2d\n",
    "media_media_amostral = 0\n",
    "medias_amostrais = []\n",
    "for i in range(10000):\n",
    "    amostras = np.random.choice(distribuicao_lognorm,n)\n",
    "    media_amostral = amostras.mean()\n",
    "    medias_amostrais.append(media_amostral)\n",
    "    media_media_amostral += media_amostral\n",
    "media_media_amostral = (media_media_amostral/10000)\n",
    "\n",
    "#2e\n",
    "print(\"Média das médias amostrais:{}\".format(media_media_amostral))\n",
    "medias_amostrais = np.array(medias_amostrais)\n",
    "var_medias_amostrais = medias_amostrais.var()\n",
    "print(\"Variância das médias amostrais:{}\".format(var_medias_amostrais))\n",
    "\n",
    "# Histograma\n",
    "datalog2 = pd.Series(distribuicao_lognorm)\n",
    "hist2 = datalog2.plot(kind=\"hist\", bins = 120, normed=True)\n",
    "plt.xlim((0,8))\n",
    "plt.ylim((0,3))\n"
   ]
  },
  {
   "cell_type": "markdown",
   "metadata": {},
   "source": [
    "Interpretação dos resultados: De acordo com o teorema do limite central, a média das médias amostrais é equivalente à média teórica. No entanto, a variância é equivalente à variância teórica dividida pelo número de amostras."
   ]
  },
  {
   "cell_type": "code",
   "execution_count": 80,
   "metadata": {
    "collapsed": false
   },
   "outputs": [
    {
     "name": "stdout",
     "output_type": "stream",
     "text": [
      "Média amostral:1.073938606223682\n",
      "Média das médias amostrais:1.1238667452224198\n",
      "Variância das médias amostrais:0.08683599480133976\n"
     ]
    },
    {
     "data": {
      "text/plain": [
       "(0, 3)"
      ]
     },
     "execution_count": 80,
     "metadata": {},
     "output_type": "execute_result"
    },
    {
     "data": {
      "image/png": "[encoded data removed]",
      "text/plain": [
       "<matplotlib.figure.Figure at 0x2a4e94040b8>"
      ]
     },
     "metadata": {},
     "output_type": "display_data"
    }
   ],
   "source": [
    "#3\n",
    "\n",
    "n=4\n",
    "\n",
    "amostras = np.random.choice(distribuicao_lognorm,n)\n",
    "\n",
    "media_amostral = amostras.mean()\n",
    "print(\"Média amostral:{}\".format(media_amostral))\n",
    "\n",
    "media_media_amostral = 0\n",
    "medias_amostrais = []\n",
    "for i in range(10000):\n",
    "    amostras = np.random.choice(distribuicao_lognorm,n)\n",
    "    media_amostral = amostras.mean()\n",
    "    medias_amostrais.append(media_amostral)\n",
    "    media_media_amostral += media_amostral\n",
    "media_media_amostral = (media_media_amostral/10000)\n",
    "\n",
    "print(\"Média das médias amostrais:{}\".format(media_media_amostral))\n",
    "medias_amostrais = np.array(medias_amostrais)\n",
    "var_medias_amostrais = medias_amostrais.var()\n",
    "print(\"Variância das médias amostrais:{}\".format(var_medias_amostrais))\n",
    "\n",
    "# Histograma\n",
    "datalog4 = pd.Series(medias_amostrais)\n",
    "hist4 = datalog4.plot(kind=\"hist\", bins = 4, normed=True)\n",
    "plt.xlim((0,8))\n",
    "plt.ylim((0,3))\n"
   ]
  },
  {
   "cell_type": "code",
   "execution_count": 81,
   "metadata": {
    "collapsed": false
   },
   "outputs": [
    {
     "name": "stdout",
     "output_type": "stream",
     "text": [
      "Média amostral:1.271328973756673\n",
      "Média das médias amostrais:1.130136997293338\n",
      "Variância das médias amostrais:0.018485010148360317\n"
     ]
    },
    {
     "data": {
      "text/plain": [
       "(0, 3)"
      ]
     },
     "execution_count": 81,
     "metadata": {},
     "output_type": "execute_result"
    },
    {
     "data": {
      "image/png": "[encoded data removed]",
      "text/plain": [
       "<matplotlib.figure.Figure at 0x2a4ea21d9b0>"
      ]
     },
     "metadata": {},
     "output_type": "display_data"
    }
   ],
   "source": [
    "n=20\n",
    "\n",
    "amostras = np.random.choice(distribuicao_lognorm,n)\n",
    "\n",
    "media_amostral = amostras.mean()\n",
    "print(\"Média amostral:{}\".format(media_amostral))\n",
    "\n",
    "media_media_amostral = 0\n",
    "medias_amostrais = []\n",
    "for i in range(10000):\n",
    "    amostras = np.random.choice(distribuicao_lognorm,n)\n",
    "    media_amostral = amostras.mean()\n",
    "    medias_amostrais.append(media_amostral)\n",
    "    media_media_amostral += media_amostral\n",
    "media_media_amostral = (media_media_amostral/10000)\n",
    "\n",
    "print(\"Média das médias amostrais:{}\".format(media_media_amostral))\n",
    "medias_amostrais = np.array(medias_amostrais)\n",
    "var_medias_amostrais = medias_amostrais.var()\n",
    "print(\"Variância das médias amostrais:{}\".format(var_medias_amostrais))\n",
    "\n",
    "# Histograma\n",
    "datalog20 = pd.Series(medias_amostrais)\n",
    "hist20 = datalog20.plot(kind=\"hist\", bins = 20, normed=True)\n",
    "plt.xlim((0,8))\n",
    "plt.ylim((0,3))\n",
    "\n"
   ]
  },
  {
   "cell_type": "code",
   "execution_count": 82,
   "metadata": {
    "collapsed": false
   },
   "outputs": [
    {
     "name": "stdout",
     "output_type": "stream",
     "text": [
      "Média amostral:1.135481245425244\n",
      "Média das médias amostrais:1.1339214717773423\n",
      "Variância das médias amostrais:0.007589217433204937\n"
     ]
    },
    {
     "data": {
      "text/plain": [
       "(0, 3)"
      ]
     },
     "execution_count": 82,
     "metadata": {},
     "output_type": "execute_result"
    },
    {
     "data": {
      "image/png": "[encoded data removed]",
      "text/plain": [
       "<matplotlib.figure.Figure at 0x2a4f3cd3828>"
      ]
     },
     "metadata": {},
     "output_type": "display_data"
    }
   ],
   "source": [
    "n=50\n",
    "\n",
    "amostras = np.random.choice(distribuicao_lognorm,n)\n",
    "\n",
    "media_amostral = amostras.mean()\n",
    "print(\"Média amostral:{}\".format(media_amostral))\n",
    "\n",
    "media_media_amostral = 0\n",
    "medias_amostrais = []\n",
    "for i in range(10000):\n",
    "    amostras = np.random.choice(distribuicao_lognorm,n)\n",
    "    media_amostral = amostras.mean()\n",
    "    medias_amostrais.append(media_amostral)\n",
    "    media_media_amostral += media_amostral\n",
    "media_media_amostral = (media_media_amostral/10000)\n",
    "\n",
    "print(\"Média das médias amostrais:{}\".format(media_media_amostral))\n",
    "medias_amostrais = np.array(medias_amostrais)\n",
    "var_medias_amostrais = medias_amostrais.var()\n",
    "print(\"Variância das médias amostrais:{}\".format(var_medias_amostrais))\n",
    "\n",
    "# Histograma\n",
    "datalog50 = pd.Series(medias_amostrais)\n",
    "hist50 = datalog50.plot(kind=\"hist\", bins = 10, normed=True)\n",
    "plt.xlim((0,8))\n",
    "plt.ylim((0,3))\n"
   ]
  },
  {
   "cell_type": "markdown",
   "metadata": {},
   "source": [
    "Item 4: De acordo com o teorema do limite central, a média amostral é igual a média teórica. Porém, o cálculo da variância é feito a partir da variância teórica dividida pelo número de amostras - no caso, o \"n\" da programação acima. Primeiramente, começamos com duas amostras, e, em convergência com o teorema do limite central, a média foi equivalente à média teórica e a variância foi equivalente à variância teórica dividida por dois. Em seguida, aumentamos o número de amostras - fizemos \"n\" ser igual a 4, 20 e 50 - e foi provado que a média e a variância continuam em conformidade com o TLC."
   ]
  },
  {
   "cell_type": "code",
   "execution_count": 83,
   "metadata": {
    "collapsed": false
   },
   "outputs": [
    {
     "data": {
      "text/plain": [
       "<matplotlib.text.Text at 0x2a4ea1c9240>"
      ]
     },
     "execution_count": 83,
     "metadata": {},
     "output_type": "execute_result"
    },
    {
     "data": {
      "image/png": "[encoded data removed]",
      "text/plain": [
       "<matplotlib.figure.Figure at 0x2a4e9586f28>"
      ]
     },
     "metadata": {},
     "output_type": "display_data"
    }
   ],
   "source": [
    "# último ítem (x1 e x9)\n",
    "#item i\n",
    "amostras = np.random.choice(distribuicao_lognorm,n)\n",
    "\n",
    "\n",
    "lista_x1  = []\n",
    "lista_x9 = []\n",
    "for i in range(10000):\n",
    "    amostras = np.random.choice(distribuicao_lognorm,n)\n",
    "    lista_x1.append(amostras[0])\n",
    "    lista_x9.append(amostras[8])\n",
    "\n",
    "#item ii\n",
    "\n",
    "lista_x1 = np.array(lista_x1)\n",
    "lista_x9 = np.array(lista_x9)\n",
    "datalog1 = pd.Series(lista_x1)\n",
    "hist1 = datalog1.plot(kind=\"hist\", bins=120, normed=True)\n",
    "plt.xlim((0,8))\n",
    "plt.ylim((0,3))\n",
    "plt.title(\"Distribuição de x1\")\n"
   ]
  },
  {
   "cell_type": "code",
   "execution_count": 84,
   "metadata": {
    "collapsed": false
   },
   "outputs": [
    {
     "data": {
      "text/plain": [
       "<matplotlib.text.Text at 0x2a4ea4e26a0>"
      ]
     },
     "execution_count": 84,
     "metadata": {},
     "output_type": "execute_result"
    },
    {
     "data": {
      "image/png": "[encoded data removed]",
      "text/plain": [
       "<matplotlib.figure.Figure at 0x2a4f100b208>"
      ]
     },
     "metadata": {},
     "output_type": "display_data"
    }
   ],
   "source": [
    "#item iii\n",
    "datalog9 = pd.Series(lista_x9)\n",
    "hist9 = datalog1.plot(kind=\"hist\", bins=120, normed=True)\n",
    "plt.xlim((0,8))\n",
    "plt.ylim((0,3))\n",
    "plt.title(\"Distribuição de x9\")\n",
    "\n"
   ]
  },
  {
   "cell_type": "code",
   "execution_count": 101,
   "metadata": {
    "collapsed": false
   },
   "outputs": [
    {
     "data": {
      "text/plain": [
       "<matplotlib.text.Text at 0x2a4801590f0>"
      ]
     },
     "execution_count": 101,
     "metadata": {},
     "output_type": "execute_result"
    },
    {
     "data": {
      "image/png": "[encoded data removed]",
      "text/plain": [
       "<matplotlib.figure.Figure at 0x2a4f1010c88>"
      ]
     },
     "metadata": {},
     "output_type": "display_data"
    }
   ],
   "source": [
    "#item iv\n",
    "hist9 = datalog9.plot(kind=\"hist\", bins=120, normed=True, label=\"x9\")\n",
    "hist1 = datalog1.plot(kind=\"hist\", bins=120, normed=True, label=\"x1\")\n",
    "plt.xlim((0,8))\n",
    "plt.ylim((0,1))\n",
    "plt.legend(loc='upper center', bbox_to_anchor=(0.5, 1.05),\n",
    "          ncol=3, fancybox=True, shadow=True)\n",
    "plt.title(\"Gráfico da distribuição x9 e x1 sobrepostas\")"
   ]
  },
  {
   "cell_type": "markdown",
   "metadata": {},
   "source": [
    "A partir do gráfico das distribuições x1 e x9 acima sobrepostas, percebe-se que as mesmas são identicamente distribuídas. A escala foi alterada para perceber que que a semelhança é realmente muito grande."
   ]
  },
  {
   "cell_type": "code",
   "execution_count": 100,
   "metadata": {
    "collapsed": false
   },
   "outputs": [
    {
     "data": {
      "text/plain": [
       "<matplotlib.text.Text at 0x2a4f3885f28>"
      ]
     },
     "execution_count": 100,
     "metadata": {},
     "output_type": "execute_result"
    },
    {
     "data": {
      "image/png": "[encoded data removed]",
      "text/plain": [
       "<matplotlib.figure.Figure at 0x2a4f32c9668>"
      ]
     },
     "metadata": {},
     "output_type": "display_data"
    }
   ],
   "source": [
    "hist2 = datalog2.plot(kind=\"hist\", bins=120, normed=True, label=\"X\")\n",
    "hist9 = datalog9.plot(kind=\"hist\", bins=120, normed=True, label=\"x9\")\n",
    "plt.xlim((0,8))\n",
    "plt.ylim((0,1))\n",
    "plt.legend(loc='upper center', bbox_to_anchor=(0.5, 1.05),\n",
    "          ncol=3, fancybox=True, shadow=True)\n",
    "plt.title(\"Gráfico da distribuição x9 e X sobrepostas\")"
   ]
  },
  {
   "cell_type": "markdown",
   "metadata": {},
   "source": [
    "A partir da distribuição de x9 sobreposta à X, evidencia-se que elas são identicamente distribuídas a X. A escala foi alterada para perceber que que a semelhança é realmente muito grande."
   ]
  },
  {
   "cell_type": "code",
   "execution_count": 87,
   "metadata": {
    "collapsed": false
   },
   "outputs": [
    {
     "name": "stdout",
     "output_type": "stream",
     "text": [
      "Correlação entre x1 e x9:-0.01193896135835226\n"
     ]
    }
   ],
   "source": [
    "#item v\n",
    "corr = stats.pearsonr(lista_x1, lista_x9)\n",
    "# o primeiro valor retornado é o coeficiente de correlação\n",
    "\n",
    "print(\"Correlação entre x1 e x9:{}\".format(corr[0]))"
   ]
  },
  {
   "cell_type": "markdown",
   "metadata": {},
   "source": [
    "A correlação entre o x1 e o x9 é muito próxima de zero, indicando a independência entre essas variáveis. Considerando que variáveis independentes...\n"
   ]
  },
  {
   "cell_type": "markdown",
   "metadata": {
    "collapsed": true
   },
   "source": [
    "Evidência do TLC nas distribuições:\n",
    "\n",
    "Quanto maior o n, mais estreito deve ser o gráfico."
   ]
  },
  {
   "cell_type": "code",
   "execution_count": 99,
   "metadata": {
    "collapsed": false
   },
   "outputs": [
    {
     "data": {
      "text/plain": [
       "<matplotlib.text.Text at 0x2a4f3787f98>"
      ]
     },
     "execution_count": 99,
     "metadata": {},
     "output_type": "execute_result"
    },
    {
     "data": {
      "image/png": "[encoded data removed]",
      "text/plain": [
       "<matplotlib.figure.Figure at 0x2a4f33e5b70>"
      ]
     },
     "metadata": {},
     "output_type": "display_data"
    }
   ],
   "source": [
    "hist4 = datalog4.plot(kind=\"hist\", bins=20, normed=True, label=\"n=4\")\n",
    "his50 = datalog50.plot(kind=\"hist\", bins=20, normed=True, label=\"n=50\")\n",
    "plt.xlim((0,8))\n",
    "plt.ylim((0,3))\n",
    "plt.legend(loc='upper center', bbox_to_anchor=(0.5, 1.05),\n",
    "          ncol=3, fancybox=True, shadow=True)\n",
    "plt.title(\"Gráfico da distribuição n=4 e n=50 sobrepostas\")"
   ]
  },
  {
   "cell_type": "markdown",
   "metadata": {},
   "source": [
    "O gráfico acima mostra como o desvio padrão se comporta quando o \"n\" aumenta. Ele se comporta exatamente de acordo com o TLC."
   ]
  },
  {
   "cell_type": "markdown",
   "metadata": {},
   "source": [
    "Conclusão geral:\n",
    "\n",
    "Evidencia-se, através dos gráficos obtidos, que quanto maior o \"n\", o desvio padrão do mesmo é proporcionalmente menor. Essa observação converge com o teorema do limite central, o qual relaciona matematicamente a variância da amostra à variância teórica dividida por \"n\". Nesse sentido, com uma amostra de tamanho grande, obtém-se um desvio padrão muito pequeno. Essa propriedade também pode ser verificada através das distribuições obtidas nos itens anteriores: quanto maior a amostra, menor o desvio padrão e, por conseguinte, mais estreito o gráfico é. Pelo fato de a área da distribuição ser equivalente a zero, invariavelmente, quanto mais estreito o gráfico for, maior vai ser a \"altura\" do mesmo, ou seja, os valores vão se concentrar cada vez mais próximos da média teórica. Esse aumento na \"altura\" dos gráficos é extremamente perceptível, percebe-se que ao aumentar cada vez mais o \"n\", a \"altura\" da distribuição também aumente e os valores ficam mais próximos da média."
   ]
  },
  {
   "cell_type": "code",
   "execution_count": null,
   "metadata": {
    "collapsed": true
   },
   "outputs": [],
   "source": []
  }
 ],
 "metadata": {
  "anaconda-cloud": {},
  "kernelspec": {
   "display_name": "Python [Root]",
   "language": "python",
   "name": "Python [Root]"
  },
  "language_info": {
   "codemirror_mode": {
    "name": "ipython",
    "version": 3
   },
   "file_extension": ".py",
   "mimetype": "text/x-python",
   "name": "python",
   "nbconvert_exporter": "python",
   "pygments_lexer": "ipython3",
   "version": "3.5.2"
  }
 },
 "nbformat": 4,
 "nbformat_minor": 0
}
